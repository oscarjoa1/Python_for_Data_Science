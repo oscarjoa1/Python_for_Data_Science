{
 "cells": [
  {
   "cell_type": "markdown",
   "id": "58ede246",
   "metadata": {},
   "source": [
    "# <font color = \"blue\"> Capítulo 5 - Loop For </font>"
   ]
  },
  {
   "cell_type": "code",
   "execution_count": 1,
   "id": "649c058f",
   "metadata": {},
   "outputs": [
    {
     "name": "stdout",
     "output_type": "stream",
     "text": [
      "Versaõ de Python: 3.9.13\n"
     ]
    }
   ],
   "source": [
    "# versão de python\n",
    "from platform import python_version\n",
    "print(\"Versaõ de Python:\", python_version())"
   ]
  },
  {
   "cell_type": "markdown",
   "id": "5fafc680",
   "metadata": {},
   "source": [
    "## Loop For"
   ]
  },
  {
   "cell_type": "code",
   "execution_count": 2,
   "id": "97726f92",
   "metadata": {},
   "outputs": [
    {
     "name": "stdout",
     "output_type": "stream",
     "text": [
      "elemento 1\n",
      "elemento 2\n",
      "elemento 3\n"
     ]
    }
   ],
   "source": [
    "# Criando uma tupla e imprimento cada um dos valores \n",
    "tp = (1, 2, 3)\n",
    "for i in tp:\n",
    "    print(\"elemento\", i)"
   ]
  },
  {
   "cell_type": "code",
   "execution_count": 3,
   "id": "0395f923",
   "metadata": {},
   "outputs": [
    {
     "name": "stdout",
     "output_type": "stream",
     "text": [
      "Data\n",
      "Sciences\n",
      "Academy\n"
     ]
    }
   ],
   "source": [
    "# Criando uma lista e imprimento um dos valores\n",
    "ListaString = [\"Data\", \"Sciences\", \"Academy\"]\n",
    "for i in ListaString:\n",
    "    print(i)\n"
   ]
  },
  {
   "cell_type": "code",
   "execution_count": 6,
   "id": "ff448dc0",
   "metadata": {},
   "outputs": [
    {
     "name": "stdout",
     "output_type": "stream",
     "text": [
      "0\n",
      "1\n",
      "2\n",
      "3\n",
      "4\n"
     ]
    }
   ],
   "source": [
    "# imprimento os valores no intervalo 0 a 5 (exclusive)\n",
    "for i in range(0, 5):\n",
    "    print(i)"
   ]
  },
  {
   "cell_type": "code",
   "execution_count": 14,
   "id": "51349ccd",
   "metadata": {},
   "outputs": [
    {
     "name": "stdout",
     "output_type": "stream",
     "text": [
      "2\n",
      "4\n",
      "6\n",
      "8\n",
      "10\n"
     ]
    }
   ],
   "source": [
    "# Imprimento os números pares de uma lista\n",
    "lista = list(range(1, 11))\n",
    "for i in lista:\n",
    "    if (i % 2 == 0):\n",
    "        print(i)\n",
    "    "
   ]
  },
  {
   "cell_type": "code",
   "execution_count": 20,
   "id": "5c8a2c7e",
   "metadata": {},
   "outputs": [
    {
     "name": "stdout",
     "output_type": "stream",
     "text": [
      "0\n",
      "2\n",
      "4\n",
      "6\n",
      "8\n",
      "10\n",
      "12\n",
      "14\n",
      "16\n",
      "18\n",
      "20\n",
      "22\n",
      "24\n",
      "26\n",
      "28\n",
      "30\n",
      "32\n",
      "34\n",
      "36\n",
      "38\n",
      "40\n",
      "42\n",
      "44\n",
      "46\n",
      "48\n",
      "50\n",
      "52\n",
      "54\n",
      "56\n",
      "58\n",
      "60\n",
      "62\n",
      "64\n",
      "66\n",
      "68\n",
      "70\n",
      "72\n",
      "74\n",
      "76\n",
      "78\n",
      "80\n",
      "82\n",
      "84\n",
      "86\n",
      "88\n",
      "90\n",
      "92\n",
      "94\n",
      "96\n",
      "98\n",
      "100\n"
     ]
    }
   ],
   "source": [
    "# Listando os número entre 0 a 100 com incremento em 2\n",
    "for i in list(range(0, 101, 2)):\n",
    "    print(i)"
   ]
  },
  {
   "cell_type": "code",
   "execution_count": 22,
   "id": "ca2330de",
   "metadata": {},
   "outputs": [
    {
     "name": "stdout",
     "output_type": "stream",
     "text": [
      "P\n",
      "y\n",
      "t\n",
      "h\n",
      "o\n",
      "n\n",
      " \n",
      "é\n",
      " \n",
      "u\n",
      "m\n",
      "a\n",
      " \n",
      "l\n",
      "i\n",
      "n\n",
      "g\n",
      "u\n",
      "a\n",
      "g\n",
      "e\n",
      "m\n",
      " \n",
      "d\n",
      "e\n",
      " \n",
      "p\n",
      "r\n",
      "o\n",
      "g\n",
      "r\n",
      "a\n",
      "m\n",
      "a\n",
      "ç\n",
      "ã\n",
      "o\n",
      " \n",
      "d\n",
      "i\n",
      "v\n",
      "e\n",
      "r\n",
      "t\n",
      "i\n",
      "d\n",
      "a\n",
      "!\n"
     ]
    }
   ],
   "source": [
    "# String também são sequências \n",
    "for string in 'Python é uma linguagem de programação divertida!':\n",
    "    print(string)"
   ]
  },
  {
   "cell_type": "markdown",
   "id": "f6aeac68",
   "metadata": {},
   "source": [
    "## For aninhado"
   ]
  },
  {
   "cell_type": "code",
   "execution_count": 30,
   "id": "dd78ae9a",
   "metadata": {},
   "outputs": [
    {
     "name": "stdout",
     "output_type": "stream",
     "text": [
      "mult = 0 \n",
      "\n",
      "mult = 0 \n",
      "\n",
      "mult = 0 \n",
      "\n",
      "---\n",
      "mult = 1 \n",
      "\n",
      "mult = 2 \n",
      "\n",
      "mult = 3 \n",
      "\n",
      "---\n",
      "mult = 2 \n",
      "\n",
      "mult = 4 \n",
      "\n",
      "mult = 6 \n",
      "\n",
      "---\n",
      "mult = 3 \n",
      "\n",
      "mult = 6 \n",
      "\n",
      "mult = 9 \n",
      "\n",
      "---\n",
      "mult = 4 \n",
      "\n",
      "mult = 8 \n",
      "\n",
      "mult = 12 \n",
      "\n",
      "---\n"
     ]
    }
   ],
   "source": [
    "# loops aninhados\n",
    "lista1 = list(range(0, 5))\n",
    "lista2 = list(range(1, 4))\n",
    "\n",
    "for i in lista1:\n",
    "    for j in lista2:\n",
    "        print('mult =', i * j, '\\n')\n",
    "    print('---')"
   ]
  },
  {
   "cell_type": "code",
   "execution_count": 34,
   "id": "15ab08b1",
   "metadata": {},
   "outputs": [
    {
     "name": "stdout",
     "output_type": "stream",
     "text": [
      "O número 47 foi encontrado em ambas listas!\n"
     ]
    }
   ],
   "source": [
    "# o número 47 aparece em ambas listas\n",
    "lista1 = [10, 16, 24, 39, 47]\n",
    "lista2 = [32, 89, 47, 76, 12]\n",
    "\n",
    "for i in lista1:\n",
    "    for j in lista2:\n",
    "        if (i == 47 and j == 47):\n",
    "            print(\"O número 47 foi encontrado em ambas listas!\")\n",
    "        "
   ]
  },
  {
   "cell_type": "code",
   "execution_count": 3,
   "id": "d0cef1f4",
   "metadata": {},
   "outputs": [
    {
     "name": "stdout",
     "output_type": "stream",
     "text": [
      "Soma total: 170\n"
     ]
    }
   ],
   "source": [
    "# some os números pares da primeira lista com os números pares da segunda lista\n",
    "lista1 = [10, 16, 24, 39, 47]\n",
    "lista2 = [32, 89, 47, 76, 12]\n",
    "soma = 0\n",
    "\n",
    "for i in [lista1, lista2]:\n",
    "    for j in i:\n",
    "        if (j % 2 == 0):\n",
    "            soma += j\n",
    "print('Soma total:', soma)\n",
    "\n",
    "   \n",
    "\n",
    "\n"
   ]
  },
  {
   "cell_type": "code",
   "execution_count": 44,
   "id": "46ff03d4",
   "metadata": {},
   "outputs": [
    {
     "data": {
      "text/plain": [
       "[10, 16, 24, 39, 47, 32, 89, 47, 76, 12]"
      ]
     },
     "execution_count": 44,
     "metadata": {},
     "output_type": "execute_result"
    }
   ],
   "source": [
    "# Concatenação das lista\n",
    "lista1 + lista2"
   ]
  },
  {
   "cell_type": "code",
   "execution_count": 47,
   "id": "b76f5922",
   "metadata": {},
   "outputs": [
    {
     "name": "stdout",
     "output_type": "stream",
     "text": [
      "Soma total: 170\n"
     ]
    }
   ],
   "source": [
    "# some os números pares da primeira lista com os números pares da segunda lista\n",
    "soma = 0\n",
    "for i in lista1 + lista2:\n",
    "    if (i % 2 == 0):\n",
    "        soma += i\n",
    "print('Soma total:', soma)"
   ]
  },
  {
   "cell_type": "code",
   "execution_count": 28,
   "id": "a16428b0",
   "metadata": {},
   "outputs": [
    {
     "name": "stdout",
     "output_type": "stream",
     "text": [
      "Maior número [42, 215, 98.7]\n"
     ]
    }
   ],
   "source": [
    "# Loop em lista de lista (matriz em Python) para encontrar o maior número\n",
    "matriz = [[42, 23, 34], [100, 215, 114], [10.1, 98.7, 12.3]]\n",
    "maximo = list(range(0, len(matriz)))\n",
    "k = 0\n",
    "for i in matriz:\n",
    "    maximo[k] = max(i)\n",
    "    k += 1\n",
    "print(\"Maior número\", maximo)\n",
    "        "
   ]
  },
  {
   "cell_type": "code",
   "execution_count": 27,
   "id": "4b7a16aa",
   "metadata": {},
   "outputs": [
    {
     "name": "stdout",
     "output_type": "stream",
     "text": [
      "215\n"
     ]
    }
   ],
   "source": [
    "# Loop em lista de lista (matriz em Python) para encontrar o maior número\n",
    "matriz = [[42, 23, 34], [100, 215, 114], [10.1, 98.7, 12.3]]\n",
    "maximo = float(\"-inf\")\n",
    "for i in matriz:\n",
    "    for j in i:\n",
    "        if (j > maximo):\n",
    "            maximo = j\n",
    "print(\"Maior número\", maximo)\n",
    "    "
   ]
  }
 ],
 "metadata": {
  "kernelspec": {
   "display_name": "Python 3 (ipykernel)",
   "language": "python",
   "name": "python3"
  },
  "language_info": {
   "codemirror_mode": {
    "name": "ipython",
    "version": 3
   },
   "file_extension": ".py",
   "mimetype": "text/x-python",
   "name": "python",
   "nbconvert_exporter": "python",
   "pygments_lexer": "ipython3",
   "version": "3.9.13"
  }
 },
 "nbformat": 4,
 "nbformat_minor": 5
}
