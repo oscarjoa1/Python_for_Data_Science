{
 "cells": [
  {
   "cell_type": "markdown",
   "id": "14ea00b1",
   "metadata": {},
   "source": [
    "# <font color = \"blue\"> Loop While </font>"
   ]
  },
  {
   "cell_type": "code",
   "execution_count": 1,
   "id": "255e0df1",
   "metadata": {},
   "outputs": [
    {
     "name": "stdout",
     "output_type": "stream",
     "text": [
      "versão de python: 3.9.13\n"
     ]
    }
   ],
   "source": [
    "# versão de Python\n",
    "from platform import python_version\n",
    "print(\"versão de python:\", python_version())"
   ]
  },
  {
   "cell_type": "code",
   "execution_count": 2,
   "id": "ef729502",
   "metadata": {},
   "outputs": [
    {
     "name": "stdout",
     "output_type": "stream",
     "text": [
      "0\n",
      "1\n",
      "2\n",
      "3\n",
      "4\n",
      "5\n",
      "6\n",
      "7\n",
      "8\n",
      "9\n"
     ]
    }
   ],
   "source": [
    "# Usando o loop While imprimir os valores de 0 a 9\n",
    "num = 0\n",
    "while num < 10:\n",
    "    print(num)\n",
    "    num += 1"
   ]
  },
  {
   "cell_type": "code",
   "execution_count": 3,
   "id": "6a142df5",
   "metadata": {},
   "outputs": [],
   "source": [
    "# Entra no loop somente se a condição for verdadeira\n",
    "num = 10\n",
    "while num < 10:\n",
    "    print(num)\n",
    "    num += 1"
   ]
  },
  {
   "cell_type": "code",
   "execution_count": 4,
   "id": "594a5c92",
   "metadata": {},
   "outputs": [
    {
     "name": "stdout",
     "output_type": "stream",
     "text": [
      "Valor de x nesta interação 0\n",
      "O valores de x se encontra entre 0 e 1\n",
      "Valor de x nesta interação 1\n",
      "O valores de x se encontra entre 0 e 1\n",
      "Valor de x nesta interação 2\n",
      "O valores de x se encontra entre 0 e 1\n",
      "Valor de x nesta interação 3\n",
      "O valores de x se encontra entre 0 e 1\n",
      "Valor de x nesta interação 4\n",
      "O valores de x se encontra entre 0 e 1\n",
      "Valor de x nesta interação 5\n",
      "O valores de x se encontra entre 0 e 1\n",
      "Valor de x nesta interação 6\n",
      "O valores de x se encontra entre 0 e 1\n",
      "Valor de x nesta interação 7\n",
      "O valores de x se encontra entre 0 e 1\n",
      "Valor de x nesta interação 8\n",
      "O valores de x se encontra entre 0 e 1\n",
      "Valor de x nesta interação 9\n",
      "O valores de x se encontra entre 0 e 1\n",
      "Loop terminado\n",
      "10\n"
     ]
    }
   ],
   "source": [
    "# Também é possível usar a claúsula else para encerrar o loop while\n",
    "x = 0\n",
    "while x < 10:\n",
    "    print(\"Valor de x nesta interação\", x)\n",
    "    print(\"O valores de x se encontra entre 0 e 1\")\n",
    "    x += 1\n",
    "else:\n",
    "    print(\"Loop terminado\")\n",
    "print(x)\n"
   ]
  },
  {
   "cell_type": "markdown",
   "id": "67dc055a",
   "metadata": {},
   "source": [
    "## Cláusulas pass, break e continue"
   ]
  },
  {
   "cell_type": "code",
   "execution_count": 5,
   "id": "e0fc873d",
   "metadata": {},
   "outputs": [
    {
     "name": "stdout",
     "output_type": "stream",
     "text": [
      "0\n",
      "1\n",
      "2\n",
      "3\n"
     ]
    }
   ],
   "source": [
    "# se o número é 4 se interrumpe o loop\n",
    "valor = 0\n",
    "while valor < 10:\n",
    "    if (valor == 4):\n",
    "        break\n",
    "    else:\n",
    "        pass\n",
    "    print(valor)\n",
    "    valor += 1"
   ]
  },
  {
   "cell_type": "code",
   "execution_count": 6,
   "id": "14cf11a2",
   "metadata": {},
   "outputs": [
    {
     "name": "stdout",
     "output_type": "stream",
     "text": [
      "P\n",
      "y\n",
      "t\n",
      "h\n",
      "o\n",
      "n\n",
      " \n",
      "é\n",
      " \n",
      " \n",
      "i\n",
      "n\n",
      "c\n",
      "r\n",
      "e\n",
      "í\n",
      "v\n",
      "e\n",
      "l\n"
     ]
    }
   ],
   "source": [
    "# desconsiderando a letra 'z' ao imprimer os carateres de frase\n",
    "for letra in \"Python é zzz increível\":\n",
    "    if (letra == 'z'):\n",
    "        continue\n",
    "    print(letra)"
   ]
  },
  {
   "cell_type": "markdown",
   "id": "3067d42d",
   "metadata": {},
   "source": [
    "## While e For Juntos"
   ]
  },
  {
   "cell_type": "markdown",
   "id": "54c56f56",
   "metadata": {},
   "source": [
    "### imprimir os números primos entre 2 e 30.\n",
    "    - Crie uma lista vazia para armazenar os números primos\n",
    "    - Para cada número N entre 2 e 30:\n",
    "        - Inicialize uma variável test_primo como verdadeira\n",
    "        - Para cada i entre 2 e N/2:\n",
    "         - Se N é divisível por i, então:\n",
    "            - Altere test_primo como falso\n",
    "            - Pare de verificar os números primos\n",
    "        - Se a variável primo ainda é verdadeira adicione N a lista de números primo\n",
    "    - Imprima a lista de números primos"
   ]
  },
  {
   "cell_type": "code",
   "execution_count": 7,
   "id": "f3ea7a2d",
   "metadata": {},
   "outputs": [
    {
     "name": "stdout",
     "output_type": "stream",
     "text": [
      "[2, 3, 4, 5, 6, 7, 8, 9, 10, 11, 12, 13, 14, 15, 16, 17, 18, 19, 20, 21, 22, 23, 24, 25, 26, 27, 28, 29, 30]\n",
      "Wall time: 0 ns\n"
     ]
    }
   ],
   "source": [
    "%%time\n",
    "\n",
    "# lista de primos vazia\n",
    "num_primos = list()\n",
    "\n",
    "# percorrer os numeros\n",
    "for n in range(2, 31):\n",
    "    \n",
    "    # variavel de controle\n",
    "    test_primo = True\n",
    "    \n",
    "    # verificacao se os numeros sao primos\n",
    "    i = 2\n",
    "    while i <= n/2:\n",
    "        \n",
    "        if n / i == 0:\n",
    "            test_primo == False\n",
    "            break\n",
    "        i += 1  \n",
    "    if test_primo:\n",
    "        num_primos.append(n)\n",
    "print(num_primos)\n",
    "        \n",
    "        \n",
    "        \n",
    "        "
   ]
  },
  {
   "cell_type": "code",
   "execution_count": 8,
   "id": "bbeb02f6",
   "metadata": {},
   "outputs": [
    {
     "name": "stdout",
     "output_type": "stream",
     "text": [
      "[2, 3, 4, 5, 6, 7, 8, 9, 10, 11, 12, 13, 14, 15, 16, 17, 18, 19, 20, 21, 22, 23, 24, 25, 26, 27, 28, 29, 30]\n",
      "Wall time: 0 ns\n"
     ]
    }
   ],
   "source": [
    "%%time\n",
    "\n",
    "# lista de primos vazia\n",
    "num_primos = list()\n",
    "\n",
    "# percorrer os numeros\n",
    "for n in range(2, 31):\n",
    "    \n",
    "    # variavel de controle\n",
    "    test_primo = True\n",
    "    \n",
    "    # verificacao se os numeros sao primos\n",
    "    for i in [2, 3, 5, 7]:\n",
    "        if n / i == 0:\n",
    "            test_primo == False\n",
    "            break\n",
    "            \n",
    "    # salvar numero primo \n",
    "    if test_primo:\n",
    "        num_primos.append(n)\n",
    "        \n",
    "# imprimir resultado\n",
    "print(num_primos)\n"
   ]
  },
  {
   "cell_type": "code",
   "execution_count": null,
   "id": "dd1ef8d6",
   "metadata": {},
   "outputs": [],
   "source": []
  }
 ],
 "metadata": {
  "kernelspec": {
   "display_name": "Python 3 (ipykernel)",
   "language": "python",
   "name": "python3"
  },
  "language_info": {
   "codemirror_mode": {
    "name": "ipython",
    "version": 3
   },
   "file_extension": ".py",
   "mimetype": "text/x-python",
   "name": "python",
   "nbconvert_exporter": "python",
   "pygments_lexer": "ipython3",
   "version": "3.9.13"
  }
 },
 "nbformat": 4,
 "nbformat_minor": 5
}
