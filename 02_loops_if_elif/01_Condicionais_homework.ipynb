{
 "cells": [
  {
   "cell_type": "markdown",
   "id": "d5b67f4e",
   "metadata": {},
   "source": [
    "# <font color = \"blue\"> Capítulo 5 - Condicionais </font>"
   ]
  },
  {
   "cell_type": "code",
   "execution_count": 1,
   "id": "9ded3a4a",
   "metadata": {},
   "outputs": [
    {
     "name": "stdout",
     "output_type": "stream",
     "text": [
      "Versão da linguagem Python 3.9.13\n"
     ]
    }
   ],
   "source": [
    "# versão da linguagem Python \n",
    "from platform import python_version\n",
    "print(\"Versão da linguagem Python\", python_version())"
   ]
  },
  {
   "cell_type": "markdown",
   "id": "7644957d",
   "metadata": {},
   "source": [
    "## Condicional if"
   ]
  },
  {
   "cell_type": "code",
   "execution_count": 2,
   "id": "407a5712",
   "metadata": {},
   "outputs": [
    {
     "name": "stdout",
     "output_type": "stream",
     "text": [
      "A sentença é verdadeira\n"
     ]
    }
   ],
   "source": [
    "# condicional if\n",
    "if 10 > 5:\n",
    "    print(\"A sentença é verdadeira\")"
   ]
  },
  {
   "cell_type": "code",
   "execution_count": 4,
   "id": "a6086689",
   "metadata": {},
   "outputs": [
    {
     "name": "stdout",
     "output_type": "stream",
     "text": [
      "A sentença é falsa\n"
     ]
    }
   ],
   "source": [
    "# condicional if e else\n",
    "if 20 < 10:\n",
    "    print(\"A sentença é verdadeira\")\n",
    "else:\n",
    "    print(\"A sentença é falsa\")"
   ]
  },
  {
   "cell_type": "code",
   "execution_count": 5,
   "id": "b58e4295",
   "metadata": {},
   "outputs": [
    {
     "name": "stdout",
     "output_type": "stream",
     "text": [
      "Vou bem\n"
     ]
    }
   ],
   "source": [
    "# condicional if e else com variáveis \n",
    "dia = \"terca\"\n",
    "if dia == \"sexta\":\n",
    "    print(\"Preciso correr com as coisas\")\n",
    "else:\n",
    "    print(\"Vou bem\")"
   ]
  },
  {
   "cell_type": "code",
   "execution_count": 7,
   "id": "72afb1b8",
   "metadata": {},
   "outputs": [
    {
     "name": "stdout",
     "output_type": "stream",
     "text": [
      "temos tempo\n"
     ]
    }
   ],
   "source": [
    "# condicional elif (permite avaliar pelo menos duas condições verdadeiras antes de uma falsa)\n",
    "if dia == \"segunda\":\n",
    "    print(\"inicio de semana\")\n",
    "elif dia == \"terca\":\n",
    "    print(\"temos tempo\")\n",
    "else:\n",
    "    print(\"verificar\")"
   ]
  },
  {
   "cell_type": "markdown",
   "id": "d45491cc",
   "metadata": {},
   "source": [
    "## Operadores relacionais\n",
    "\n",
    "Retornam valores booleanos: True ou False"
   ]
  },
  {
   "cell_type": "code",
   "execution_count": 8,
   "id": "7f2f28d1",
   "metadata": {},
   "outputs": [
    {
     "data": {
      "text/plain": [
       "True"
      ]
     },
     "execution_count": 8,
     "metadata": {},
     "output_type": "execute_result"
    }
   ],
   "source": [
    "10 > 5"
   ]
  },
  {
   "cell_type": "code",
   "execution_count": 9,
   "id": "937c4614",
   "metadata": {},
   "outputs": [
    {
     "data": {
      "text/plain": [
       "False"
      ]
     },
     "execution_count": 9,
     "metadata": {},
     "output_type": "execute_result"
    }
   ],
   "source": [
    "3 > 7"
   ]
  },
  {
   "cell_type": "code",
   "execution_count": 10,
   "id": "3c98c404",
   "metadata": {},
   "outputs": [
    {
     "data": {
      "text/plain": [
       "True"
      ]
     },
     "execution_count": 10,
     "metadata": {},
     "output_type": "execute_result"
    }
   ],
   "source": [
    "4 >= 4"
   ]
  },
  {
   "cell_type": "code",
   "execution_count": 11,
   "id": "6f79afde",
   "metadata": {},
   "outputs": [
    {
     "data": {
      "text/plain": [
       "True"
      ]
     },
     "execution_count": 11,
     "metadata": {},
     "output_type": "execute_result"
    }
   ],
   "source": [
    "4 <= 4"
   ]
  },
  {
   "cell_type": "code",
   "execution_count": 14,
   "id": "2ef3ccf1",
   "metadata": {},
   "outputs": [
    {
     "data": {
      "text/plain": [
       "True"
      ]
     },
     "execution_count": 14,
     "metadata": {},
     "output_type": "execute_result"
    }
   ],
   "source": [
    "10 >= 7"
   ]
  },
  {
   "cell_type": "code",
   "execution_count": 15,
   "id": "eecf672f",
   "metadata": {},
   "outputs": [
    {
     "data": {
      "text/plain": [
       "False"
      ]
     },
     "execution_count": 15,
     "metadata": {},
     "output_type": "execute_result"
    }
   ],
   "source": [
    "4 <= 2"
   ]
  },
  {
   "cell_type": "code",
   "execution_count": 16,
   "id": "fddc1db7",
   "metadata": {},
   "outputs": [
    {
     "name": "stdout",
     "output_type": "stream",
     "text": [
      "R e Python são linguagem de programações diferentes, mas amigos\n"
     ]
    }
   ],
   "source": [
    "if \"R\" == \"Python\":\n",
    "    print(\"R é igual a Python\")\n",
    "else:\n",
    "    print(\"R e Python são linguagem de programações diferentes, mas amigos\")"
   ]
  },
  {
   "cell_type": "markdown",
   "id": "c0182e39",
   "metadata": {},
   "source": [
    "## Condições Aninhadas"
   ]
  },
  {
   "cell_type": "code",
   "execution_count": 17,
   "id": "c9087f26",
   "metadata": {},
   "outputs": [
    {
     "name": "stdout",
     "output_type": "stream",
     "text": [
      "Você tem autização para acessar Bob\n"
     ]
    }
   ],
   "source": [
    "idade = 18\n",
    "nome = \"Bob\"\n",
    "if idade >= 18:\n",
    "    if nome == \"Bob\":\n",
    "        print(\"Você tem autização para acessar\", nome)\n",
    "else:\n",
    "    if nome == \"Bob\":\n",
    "        print(\"Você não tem autização para acessar\", nome)\n",
    "        "
   ]
  },
  {
   "cell_type": "code",
   "execution_count": 21,
   "id": "dcd7c9e2",
   "metadata": {},
   "outputs": [
    {
     "name": "stdout",
     "output_type": "stream",
     "text": [
      "Você não tem autização para acessar Bob\n"
     ]
    }
   ],
   "source": [
    "idade = 17\n",
    "nome = \"Bob\"\n",
    "if idade >= 18:\n",
    "    if nome == \"Bob\":\n",
    "        print(\"Você tem autização para acessar\", nome)\n",
    "else:\n",
    "    if nome == \"Bob\":\n",
    "        print(\"Você não tem autização para acessar\", nome)"
   ]
  },
  {
   "cell_type": "code",
   "execution_count": 22,
   "id": "e93a3888",
   "metadata": {},
   "outputs": [
    {
     "name": "stdout",
     "output_type": "stream",
     "text": [
      "Você tem autização para acessar Bob\n"
     ]
    }
   ],
   "source": [
    "idade = 18\n",
    "nome = \"Bob\"\n",
    "if idade > 13 and nome == \"Bob\":\n",
    "            print(\"Você tem autização para acessar\", nome)\n",
    "else:\n",
    "    print(\"Você tem autização para acessar\")\n",
    "    "
   ]
  },
  {
   "cell_type": "code",
   "execution_count": 24,
   "id": "7a5779c4",
   "metadata": {},
   "outputs": [
    {
     "name": "stdout",
     "output_type": "stream",
     "text": [
      "Você não tem autização para acessar\n"
     ]
    }
   ],
   "source": [
    "idade = 13\n",
    "nome = \"Bob\"\n",
    "if (idade > 13) and (nome == \"Bob\"):\n",
    "            print(\"Você tem autização para acessar\", nome)\n",
    "else:\n",
    "    print(\"Você não tem autização para acessar\")"
   ]
  },
  {
   "cell_type": "code",
   "execution_count": 25,
   "id": "1f03dd9f",
   "metadata": {},
   "outputs": [
    {
     "name": "stdout",
     "output_type": "stream",
     "text": [
      "Você tem autização para acessar Bob\n"
     ]
    }
   ],
   "source": [
    "idade = 13\n",
    "nome = \"Bob\"\n",
    "if (idade > 13) or (nome == \"Bob\"):\n",
    "            print(\"Você tem autização para acessar\", nome)\n",
    "else:\n",
    "    print(\"Você não tem autização para acessar\")"
   ]
  },
  {
   "cell_type": "markdown",
   "id": "cd9e4146",
   "metadata": {},
   "source": [
    "## Operadores lógicos"
   ]
  },
  {
   "cell_type": "markdown",
   "id": "208e9d83",
   "metadata": {},
   "source": [
    "Os operadores lógicos funcionam assim:\n",
    "\n",
    "- Operador **and** - Retorna True se ambas as declarações forem verdadeiras.\n",
    "- Operador **or** - Retorna True se uma das declarações for verdadeira.\n",
    "- Operador **not** - Inverte o resultado, retorna False se o resultado for True."
   ]
  },
  {
   "cell_type": "code",
   "execution_count": 28,
   "id": "ece69a29",
   "metadata": {},
   "outputs": [
    {
     "name": "stdout",
     "output_type": "stream",
     "text": [
      "Condições verdadeiras\n"
     ]
    }
   ],
   "source": [
    "num = 4\n",
    "if not(num > 5) and (num % 2 == 0):\n",
    "    print(\"Condições verdadeiras\")\n",
    "else:\n",
    "    print(\"Pelo menos uma é falsa\")"
   ]
  },
  {
   "cell_type": "code",
   "execution_count": 29,
   "id": "8524498d",
   "metadata": {},
   "outputs": [
    {
     "name": "stdout",
     "output_type": "stream",
     "text": [
      "Condições for verdadeiras\n"
     ]
    }
   ],
   "source": [
    "if (not(num > 5) and (num % 2 == 0)) or (num == 4):\n",
    "    print(\"Condições for verdadeiras\")\n",
    "else:\n",
    "    print(\"Condições foi falsa\")"
   ]
  },
  {
   "cell_type": "code",
   "execution_count": 34,
   "id": "ccf95eda",
   "metadata": {},
   "outputs": [
    {
     "name": "stdout",
     "output_type": "stream",
     "text": [
      "Prabens você aprovou Data Sciences com nota 10.0\n",
      "Prabens você aprovou Data Sciences com nota 10.0\n"
     ]
    }
   ],
   "source": [
    "# placeholders\n",
    "disciplina = \"Data Sciences\"\n",
    "notaFinal = 10.0\n",
    "semestre = 2\n",
    "\n",
    "if (disciplina == \"Data Sciences\") and (notaFinal == 10.0) and (semestre != 1):\n",
    "    print(\"Prabens você aprovou %s com nota %r\" %(disciplina, notaFinal))\n",
    "    print(\"Prabens você aprovou\", disciplina, \"com nota\", notaFinal)\n",
    "else:\n",
    "    print(\"Precisa estudar mais\")"
   ]
  },
  {
   "cell_type": "code",
   "execution_count": null,
   "id": "9a299757",
   "metadata": {},
   "outputs": [],
   "source": []
  }
 ],
 "metadata": {
  "kernelspec": {
   "display_name": "Python 3 (ipykernel)",
   "language": "python",
   "name": "python3"
  },
  "language_info": {
   "codemirror_mode": {
    "name": "ipython",
    "version": 3
   },
   "file_extension": ".py",
   "mimetype": "text/x-python",
   "name": "python",
   "nbconvert_exporter": "python",
   "pygments_lexer": "ipython3",
   "version": "3.9.13"
  }
 },
 "nbformat": 4,
 "nbformat_minor": 5
}
