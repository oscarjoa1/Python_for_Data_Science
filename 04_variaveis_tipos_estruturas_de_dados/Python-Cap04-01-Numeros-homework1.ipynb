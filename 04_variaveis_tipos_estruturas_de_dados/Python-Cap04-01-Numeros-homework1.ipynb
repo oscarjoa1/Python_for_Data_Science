{
 "cells": [
  {
   "cell_type": "markdown",
   "id": "03ab2b3a",
   "metadata": {},
   "source": [
    "#  <font color = \"blue\"> Números e Operações Matemáticas </font>"
   ]
  },
  {
   "cell_type": "code",
   "execution_count": 1,
   "id": "8e46474d",
   "metadata": {},
   "outputs": [
    {
     "name": "stdout",
     "output_type": "stream",
     "text": [
      "Versão da Linguagem Python Usada Neste Jupyter Notebook: 3.9.13\n"
     ]
    }
   ],
   "source": [
    "# versao de Python\n",
    "from platform import python_version\n",
    "print('Versão da Linguagem Python Usada Neste Jupyter Notebook:', python_version())\n"
   ]
  },
  {
   "cell_type": "markdown",
   "id": "533ec9a5",
   "metadata": {},
   "source": [
    "## Operações básicas"
   ]
  },
  {
   "cell_type": "code",
   "execution_count": 2,
   "id": "cc5258ba",
   "metadata": {},
   "outputs": [
    {
     "data": {
      "text/plain": [
       "4"
      ]
     },
     "execution_count": 2,
     "metadata": {},
     "output_type": "execute_result"
    }
   ],
   "source": [
    "# soma\n",
    "2 + 2"
   ]
  },
  {
   "cell_type": "code",
   "execution_count": 3,
   "id": "3090dc44",
   "metadata": {},
   "outputs": [
    {
     "data": {
      "text/plain": [
       "0"
      ]
     },
     "execution_count": 3,
     "metadata": {},
     "output_type": "execute_result"
    }
   ],
   "source": [
    "# subtracao\n",
    "2 - 2"
   ]
  },
  {
   "cell_type": "code",
   "execution_count": 4,
   "id": "0394b597",
   "metadata": {},
   "outputs": [
    {
     "data": {
      "text/plain": [
       "4"
      ]
     },
     "execution_count": 4,
     "metadata": {},
     "output_type": "execute_result"
    }
   ],
   "source": [
    "# multiplicacao\n",
    "2 * 2"
   ]
  },
  {
   "cell_type": "code",
   "execution_count": 29,
   "id": "c7fd74f5",
   "metadata": {},
   "outputs": [
    {
     "data": {
      "text/plain": [
       "2.0"
      ]
     },
     "execution_count": 29,
     "metadata": {},
     "output_type": "execute_result"
    }
   ],
   "source": [
    "# divisao\n",
    "4 / 2"
   ]
  },
  {
   "cell_type": "code",
   "execution_count": 6,
   "id": "894424ab",
   "metadata": {},
   "outputs": [
    {
     "data": {
      "text/plain": [
       "2"
      ]
     },
     "execution_count": 6,
     "metadata": {},
     "output_type": "execute_result"
    }
   ],
   "source": [
    "# divisao parte inteira entre inteiro\n",
    "4 // 2"
   ]
  },
  {
   "cell_type": "code",
   "execution_count": 7,
   "id": "96368ba2",
   "metadata": {},
   "outputs": [
    {
     "data": {
      "text/plain": [
       "4"
      ]
     },
     "execution_count": 7,
     "metadata": {},
     "output_type": "execute_result"
    }
   ],
   "source": [
    "# potencia\n",
    "2 ** 2"
   ]
  },
  {
   "cell_type": "code",
   "execution_count": 8,
   "id": "c132ee93",
   "metadata": {},
   "outputs": [
    {
     "data": {
      "text/plain": [
       "1.0"
      ]
     },
     "execution_count": 8,
     "metadata": {},
     "output_type": "execute_result"
    }
   ],
   "source": [
    "# modulo\n",
    "3 / 3"
   ]
  },
  {
   "cell_type": "markdown",
   "id": "5d7b1abc",
   "metadata": {},
   "source": [
    "## Tipo de variável"
   ]
  },
  {
   "cell_type": "code",
   "execution_count": 9,
   "id": "236395d2",
   "metadata": {},
   "outputs": [
    {
     "data": {
      "text/plain": [
       "int"
      ]
     },
     "execution_count": 9,
     "metadata": {},
     "output_type": "execute_result"
    }
   ],
   "source": [
    "type(5)"
   ]
  },
  {
   "cell_type": "code",
   "execution_count": 10,
   "id": "03304de2",
   "metadata": {},
   "outputs": [
    {
     "data": {
      "text/plain": [
       "float"
      ]
     },
     "execution_count": 10,
     "metadata": {},
     "output_type": "execute_result"
    }
   ],
   "source": [
    "type(5.0)"
   ]
  },
  {
   "cell_type": "code",
   "execution_count": 11,
   "id": "e98ce623",
   "metadata": {},
   "outputs": [
    {
     "data": {
      "text/plain": [
       "str"
      ]
     },
     "execution_count": 11,
     "metadata": {},
     "output_type": "execute_result"
    }
   ],
   "source": [
    "type('a')"
   ]
  },
  {
   "cell_type": "code",
   "execution_count": 12,
   "id": "abce29c5",
   "metadata": {},
   "outputs": [
    {
     "name": "stdout",
     "output_type": "stream",
     "text": [
      "Pythom é legal\n"
     ]
    }
   ],
   "source": [
    "b = \"Python é legal\"\n",
    "print(b)"
   ]
  },
  {
   "cell_type": "markdown",
   "id": "46d56c4d",
   "metadata": {},
   "source": [
    "## Operações com dados float"
   ]
  },
  {
   "cell_type": "code",
   "execution_count": 13,
   "id": "04d9d5e9",
   "metadata": {},
   "outputs": [
    {
     "data": {
      "text/plain": [
       "10.4"
      ]
     },
     "execution_count": 13,
     "metadata": {},
     "output_type": "execute_result"
    }
   ],
   "source": [
    "3.5 + 6.9"
   ]
  },
  {
   "cell_type": "code",
   "execution_count": 30,
   "id": "1eb33904",
   "metadata": {},
   "outputs": [
    {
     "data": {
      "text/plain": [
       "8"
      ]
     },
     "execution_count": 30,
     "metadata": {},
     "output_type": "execute_result"
    }
   ],
   "source": [
    "4 + 4.0"
   ]
  },
  {
   "cell_type": "code",
   "execution_count": 15,
   "id": "df495976",
   "metadata": {},
   "outputs": [
    {
     "data": {
      "text/plain": [
       "8"
      ]
     },
     "execution_count": 15,
     "metadata": {},
     "output_type": "execute_result"
    }
   ],
   "source": [
    "4 + 4"
   ]
  },
  {
   "cell_type": "code",
   "execution_count": 16,
   "id": "f4ea5998",
   "metadata": {},
   "outputs": [
    {
     "data": {
      "text/plain": [
       "2.0"
      ]
     },
     "execution_count": 16,
     "metadata": {},
     "output_type": "execute_result"
    }
   ],
   "source": [
    "4 / 2"
   ]
  },
  {
   "cell_type": "code",
   "execution_count": 17,
   "id": "ea1c5541",
   "metadata": {},
   "outputs": [
    {
     "data": {
      "text/plain": [
       "2"
      ]
     },
     "execution_count": 17,
     "metadata": {},
     "output_type": "execute_result"
    }
   ],
   "source": [
    "4 // 2"
   ]
  },
  {
   "cell_type": "code",
   "execution_count": 18,
   "id": "eb074ce5",
   "metadata": {},
   "outputs": [
    {
     "data": {
      "text/plain": [
       "1.3333333333333333"
      ]
     },
     "execution_count": 18,
     "metadata": {},
     "output_type": "execute_result"
    }
   ],
   "source": [
    "4 / 3.0"
   ]
  },
  {
   "cell_type": "code",
   "execution_count": 19,
   "id": "4d0d19f0",
   "metadata": {},
   "outputs": [
    {
     "data": {
      "text/plain": [
       "1.0"
      ]
     },
     "execution_count": 19,
     "metadata": {},
     "output_type": "execute_result"
    }
   ],
   "source": [
    "4 // 3.0"
   ]
  },
  {
   "cell_type": "markdown",
   "id": "2928e0b0",
   "metadata": {},
   "source": [
    "# Conversão"
   ]
  },
  {
   "cell_type": "code",
   "execution_count": 21,
   "id": "5e7a749d",
   "metadata": {},
   "outputs": [
    {
     "data": {
      "text/plain": [
       "9.0"
      ]
     },
     "execution_count": 21,
     "metadata": {},
     "output_type": "execute_result"
    }
   ],
   "source": [
    "float(9)"
   ]
  },
  {
   "cell_type": "code",
   "execution_count": 22,
   "id": "26e9ffab",
   "metadata": {},
   "outputs": [
    {
     "data": {
      "text/plain": [
       "1"
      ]
     },
     "execution_count": 22,
     "metadata": {},
     "output_type": "execute_result"
    }
   ],
   "source": [
    "int(1.333)"
   ]
  },
  {
   "cell_type": "code",
   "execution_count": 23,
   "id": "b507c93e",
   "metadata": {},
   "outputs": [
    {
     "data": {
      "text/plain": [
       "6"
      ]
     },
     "execution_count": 23,
     "metadata": {},
     "output_type": "execute_result"
    }
   ],
   "source": [
    "int(6.6) # retorna a parte inteira"
   ]
  },
  {
   "cell_type": "markdown",
   "id": "fd459af7",
   "metadata": {},
   "source": [
    "# Funções abs, round e pow"
   ]
  },
  {
   "cell_type": "code",
   "execution_count": 24,
   "id": "75d7c32e",
   "metadata": {},
   "outputs": [
    {
     "data": {
      "text/plain": [
       "10"
      ]
     },
     "execution_count": 24,
     "metadata": {},
     "output_type": "execute_result"
    }
   ],
   "source": [
    "abs(-10)"
   ]
  },
  {
   "cell_type": "code",
   "execution_count": 25,
   "id": "76f3d9d1",
   "metadata": {},
   "outputs": [
    {
     "data": {
      "text/plain": [
       "1.33"
      ]
     },
     "execution_count": 25,
     "metadata": {},
     "output_type": "execute_result"
    }
   ],
   "source": [
    "round(1.3333, 2)"
   ]
  },
  {
   "cell_type": "code",
   "execution_count": 27,
   "id": "76b3f516",
   "metadata": {},
   "outputs": [
    {
     "data": {
      "text/plain": [
       "8"
      ]
     },
     "execution_count": 27,
     "metadata": {},
     "output_type": "execute_result"
    }
   ],
   "source": [
    "pow(2, 3)"
   ]
  },
  {
   "cell_type": "markdown",
   "id": "f8324968",
   "metadata": {},
   "source": [
    "## Fim"
   ]
  },
  {
   "cell_type": "markdown",
   "id": "436d6a34",
   "metadata": {},
   "source": [
    "### Obrigado!\n",
    "\n",
    "### Oscar J. O. Ayala"
   ]
  },
  {
   "cell_type": "markdown",
   "id": "616f73fa",
   "metadata": {},
   "source": [
    "Algumas semelhanças e diferenças entre #r e #python em operações matemáticas, classes e funções de variáveis.\n",
    "\n",
    "            #r             | #python\n",
    "-inteiro:   2L             | 2\n",
    "-numérico:  2.0            | 4.0\n",
    "-divisão:   4 / 2 (numeric)| 4/2 ou 4 / 2.0 ou 4 // 2.0(float)\n",
    "-divisão:    -             | 4 // 2 (int)\n",
    "-potência:  2 ^ 2          | 2 ** 2 ou pow(2, 2)\n",
    "-absoluto:  abs(-1)        | abs(-1)\n",
    "-redondear: round(2.33)    | round(2.33)\n",
    "-classe:    class(a)       | type(class)\n",
    "-conversão: as.numeric()   | float(a)\n",
    "            as.integer()   | int(a)\n",
    "\n",
    "Legal! Certo?"
   ]
  },
  {
   "cell_type": "code",
   "execution_count": null,
   "id": "b9c68392",
   "metadata": {},
   "outputs": [],
   "source": []
  }
 ],
 "metadata": {
  "kernelspec": {
   "display_name": "Python 3 (ipykernel)",
   "language": "python",
   "name": "python3"
  },
  "language_info": {
   "codemirror_mode": {
    "name": "ipython",
    "version": 3
   },
   "file_extension": ".py",
   "mimetype": "text/x-python",
   "name": "python",
   "nbconvert_exporter": "python",
   "pygments_lexer": "ipython3",
   "version": "3.9.13"
  }
 },
 "nbformat": 4,
 "nbformat_minor": 5
}
