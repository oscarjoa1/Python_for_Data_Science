{
 "cells": [
  {
   "cell_type": "markdown",
   "id": "0eda800d",
   "metadata": {},
   "source": [
    "# <font color = \"blue\"> Capítulo 4 - Estruturas de Dados (Listas) </font>"
   ]
  },
  {
   "cell_type": "code",
   "execution_count": 6,
   "id": "0cf82573",
   "metadata": {},
   "outputs": [
    {
     "name": "stdout",
     "output_type": "stream",
     "text": [
      "A versão da linguagem Python é: 3.9.13\n"
     ]
    }
   ],
   "source": [
    "# Versão da linguagem Pyhton\n",
    "from platform import python_version\n",
    "print(\"A versão da linguagem Python é:\", python_version())"
   ]
  },
  {
   "cell_type": "code",
   "execution_count": 8,
   "id": "81b7bd65",
   "metadata": {},
   "outputs": [
    {
     "data": {
      "text/plain": [
       "['Arroz, Frango, Carne, Carve, Melancia']"
      ]
     },
     "execution_count": 8,
     "metadata": {},
     "output_type": "execute_result"
    }
   ],
   "source": [
    "# criando uma lista\n",
    "lista_1 = [\"Arroz, Frango, Carne, Carve, Melancia\"]\n",
    "lista_1"
   ]
  },
  {
   "cell_type": "code",
   "execution_count": 9,
   "id": "df624b2e",
   "metadata": {},
   "outputs": [
    {
     "data": {
      "text/plain": [
       "list"
      ]
     },
     "execution_count": 9,
     "metadata": {},
     "output_type": "execute_result"
    }
   ],
   "source": [
    "# tipo lista\n",
    "type(lista_1)"
   ]
  },
  {
   "cell_type": "code",
   "execution_count": 10,
   "id": "b58a613f",
   "metadata": {},
   "outputs": [
    {
     "data": {
      "text/plain": [
       "['Arroz', 'Frango', 'Carne', 'Carve', 'Melancia']"
      ]
     },
     "execution_count": 10,
     "metadata": {},
     "output_type": "execute_result"
    }
   ],
   "source": [
    "# Criando outra lista\n",
    "lista_2 = [\"Arroz\", \"Frango\", \"Carne\", \"Carve\", \"Melancia\"]\n",
    "lista_2"
   ]
  },
  {
   "cell_type": "code",
   "execution_count": 12,
   "id": "334a455f",
   "metadata": {},
   "outputs": [
    {
     "data": {
      "text/plain": [
       "['Arroz', 2, 3.0]"
      ]
     },
     "execution_count": 12,
     "metadata": {},
     "output_type": "execute_result"
    }
   ],
   "source": [
    "# criando outra lista\n",
    "lista_3 = [\"Arroz\", 2, 3.0]\n",
    "lista_3"
   ]
  },
  {
   "cell_type": "code",
   "execution_count": 15,
   "id": "d25a7d6a",
   "metadata": {},
   "outputs": [],
   "source": [
    "# atribuindo os elementos da lista a uma variável\n",
    "element_1 = lista_3[0]\n",
    "element_2 = lista_3[1]\n",
    "element_3 = lista_3[2]"
   ]
  },
  {
   "cell_type": "code",
   "execution_count": 16,
   "id": "af609014",
   "metadata": {
    "scrolled": true
   },
   "outputs": [
    {
     "name": "stdout",
     "output_type": "stream",
     "text": [
      "Arroz\n",
      "2\n",
      "3.0\n"
     ]
    }
   ],
   "source": [
    "# imprimir lista\n",
    "print(element_1)\n",
    "print(element_2)\n",
    "print(element_3)"
   ]
  },
  {
   "cell_type": "markdown",
   "id": "5601326c",
   "metadata": {},
   "source": [
    "## Atualização da lista"
   ]
  },
  {
   "cell_type": "code",
   "execution_count": 21,
   "id": "a8a561e6",
   "metadata": {},
   "outputs": [],
   "source": [
    "# atualização de lista \n",
    "lista_3[0] = \"Feijão\"\n"
   ]
  },
  {
   "cell_type": "code",
   "execution_count": 23,
   "id": "4bd9db6c",
   "metadata": {},
   "outputs": [
    {
     "data": {
      "text/plain": [
       "['Feijão', 2, 3.0]"
      ]
     },
     "execution_count": 23,
     "metadata": {},
     "output_type": "execute_result"
    }
   ],
   "source": [
    "# imprimento lista\n",
    "lista_3"
   ]
  },
  {
   "cell_type": "markdown",
   "id": "0269b7fe",
   "metadata": {},
   "source": [
    "## Deletar elemento da lista"
   ]
  },
  {
   "cell_type": "code",
   "execution_count": 25,
   "id": "70718105",
   "metadata": {},
   "outputs": [],
   "source": [
    "# deletar string\n",
    "del lista_2[3]"
   ]
  },
  {
   "cell_type": "code",
   "execution_count": 26,
   "id": "80903005",
   "metadata": {},
   "outputs": [
    {
     "data": {
      "text/plain": [
       "['Arroz', 'Frango', 'Carne', 'Melancia']"
      ]
     },
     "execution_count": 26,
     "metadata": {},
     "output_type": "execute_result"
    }
   ],
   "source": [
    "# imprimer lista\n",
    "lista_2"
   ]
  },
  {
   "cell_type": "markdown",
   "id": "df0350a9",
   "metadata": {},
   "source": [
    "## Listas Aninhadas (listas de listas)"
   ]
  },
  {
   "cell_type": "code",
   "execution_count": 27,
   "id": "eeb29208",
   "metadata": {},
   "outputs": [],
   "source": [
    "# criando uma lista aninhada\n",
    "lista_aninhada = [[1, 2, 3], [\"One\", \"Two\", \"Three\"], [1.0, 2.0, 3.0]]"
   ]
  },
  {
   "cell_type": "code",
   "execution_count": 28,
   "id": "85ef38a0",
   "metadata": {},
   "outputs": [
    {
     "data": {
      "text/plain": [
       "[[1, 2, 3], ['One', 'Two', 'Three'], [1.0, 2.0, 3.0]]"
      ]
     },
     "execution_count": 28,
     "metadata": {},
     "output_type": "execute_result"
    }
   ],
   "source": [
    "# imprimento lista\n",
    "lista_aninhada"
   ]
  },
  {
   "cell_type": "code",
   "execution_count": 30,
   "id": "1481f8b2",
   "metadata": {},
   "outputs": [
    {
     "name": "stdout",
     "output_type": "stream",
     "text": [
      "[1, 2, 3]\n"
     ]
    }
   ],
   "source": [
    "# extrar a primeira sub-lista\n",
    "num = lista_aninhada[0]\n",
    "print(num)"
   ]
  },
  {
   "cell_type": "code",
   "execution_count": 32,
   "id": "51c6f788",
   "metadata": {},
   "outputs": [
    {
     "name": "stdout",
     "output_type": "stream",
     "text": [
      "['One', 'Two', 'Three']\n"
     ]
    }
   ],
   "source": [
    "# extraer a segunda sub-lista\n",
    "stringer = lista_aninhada[1]\n",
    "print(stringer)"
   ]
  },
  {
   "cell_type": "code",
   "execution_count": 37,
   "id": "05b9cfb4",
   "metadata": {},
   "outputs": [
    {
     "data": {
      "text/plain": [
       "[1.0, 2.0, 3.0]"
      ]
     },
     "execution_count": 37,
     "metadata": {},
     "output_type": "execute_result"
    }
   ],
   "source": [
    "real_number = lista_aninhada[2]\n",
    "print(real_number)"
   ]
  },
  {
   "cell_type": "markdown",
   "id": "9450942b",
   "metadata": {},
   "source": [
    "## Operações com listas "
   ]
  },
  {
   "cell_type": "code",
   "execution_count": 38,
   "id": "fe0b5f25",
   "metadata": {},
   "outputs": [
    {
     "name": "stdout",
     "output_type": "stream",
     "text": [
      "1\n"
     ]
    }
   ],
   "source": [
    "# tirar o primeiro elemento da lista um\n",
    "a = lista_aninhada[0][0]\n",
    "print(a)"
   ]
  },
  {
   "cell_type": "code",
   "execution_count": 41,
   "id": "ed8a78d9",
   "metadata": {},
   "outputs": [
    {
     "data": {
      "text/plain": [
       "23.0"
      ]
     },
     "execution_count": 41,
     "metadata": {},
     "output_type": "execute_result"
    }
   ],
   "source": [
    "# soma com lisa\n",
    "b = lista_aninhada[2][2] + 20\n",
    "b"
   ]
  },
  {
   "cell_type": "code",
   "execution_count": 44,
   "id": "9caef4a8",
   "metadata": {},
   "outputs": [
    {
     "data": {
      "text/plain": [
       "6.0"
      ]
     },
     "execution_count": 44,
     "metadata": {},
     "output_type": "execute_result"
    }
   ],
   "source": [
    "# mulplicacao com lista\n",
    "c = lista_aninhada[0][1] * lista_aninhada[2][2]\n",
    "c\n"
   ]
  },
  {
   "cell_type": "markdown",
   "id": "cb0f876d",
   "metadata": {},
   "source": [
    "## Concatenação de listas "
   ]
  },
  {
   "cell_type": "code",
   "execution_count": 48,
   "id": "344b726e",
   "metadata": {},
   "outputs": [],
   "source": [
    "# concatenando todas as listas\n",
    "lista_total = lista_aninhada[0] + lista_aninhada [1] + lista_aninhada [2]"
   ]
  },
  {
   "cell_type": "code",
   "execution_count": 49,
   "id": "8081ef37",
   "metadata": {},
   "outputs": [
    {
     "data": {
      "text/plain": [
       "[1, 2, 3, 'One', 'Two', 'Three', 1.0, 2.0, 3.0]"
      ]
     },
     "execution_count": 49,
     "metadata": {},
     "output_type": "execute_result"
    }
   ],
   "source": [
    "# imprimento lista totall\n",
    "lista_total"
   ]
  },
  {
   "cell_type": "code",
   "execution_count": 50,
   "id": "734d42e2",
   "metadata": {},
   "outputs": [
    {
     "data": {
      "text/plain": [
       "1"
      ]
     },
     "execution_count": 50,
     "metadata": {},
     "output_type": "execute_result"
    }
   ],
   "source": [
    "lista_total[0]"
   ]
  },
  {
   "cell_type": "markdown",
   "id": "fd708d56",
   "metadata": {},
   "source": [
    "## Operador in\n"
   ]
  },
  {
   "cell_type": "code",
   "execution_count": 51,
   "id": "05a0960b",
   "metadata": {},
   "outputs": [
    {
     "name": "stdout",
     "output_type": "stream",
     "text": [
      "False\n"
     ]
    }
   ],
   "source": [
    "# se o numero 4 está dentro da lista\n",
    "print(4 in lista_total)"
   ]
  },
  {
   "cell_type": "code",
   "execution_count": 52,
   "id": "ee5f70c0",
   "metadata": {},
   "outputs": [
    {
     "name": "stdout",
     "output_type": "stream",
     "text": [
      "True\n"
     ]
    }
   ],
   "source": [
    "# se o numero 2 está dentro da lista\n",
    "print(1 in lista_total)"
   ]
  },
  {
   "cell_type": "markdown",
   "id": "4150e8f9",
   "metadata": {},
   "source": [
    "## Funções Built-in"
   ]
  },
  {
   "cell_type": "code",
   "execution_count": 53,
   "id": "e53646c5",
   "metadata": {},
   "outputs": [],
   "source": [
    "# criando lista\n",
    "lista_nova = [10, 20, 50, -3.4]"
   ]
  },
  {
   "cell_type": "code",
   "execution_count": 54,
   "id": "3661fa5c",
   "metadata": {},
   "outputs": [
    {
     "data": {
      "text/plain": [
       "4"
      ]
     },
     "execution_count": 54,
     "metadata": {},
     "output_type": "execute_result"
    }
   ],
   "source": [
    "# cumprimento da lista\n",
    "len(lista_nova)"
   ]
  },
  {
   "cell_type": "code",
   "execution_count": 61,
   "id": "3acf344e",
   "metadata": {},
   "outputs": [
    {
     "name": "stdout",
     "output_type": "stream",
     "text": [
      "50\n",
      "-3.4\n"
     ]
    }
   ],
   "source": [
    "# função max e min \n",
    "print(max(lista_nova))\n",
    "print(min(lista_nova))"
   ]
  },
  {
   "cell_type": "code",
   "execution_count": 62,
   "id": "169af178",
   "metadata": {},
   "outputs": [
    {
     "data": {
      "text/plain": [
       "['Analises de dados', 'Data Science', 'Machine Learning']"
      ]
     },
     "execution_count": 62,
     "metadata": {},
     "output_type": "execute_result"
    }
   ],
   "source": [
    "# criando outra lista\n",
    "lista = [\"Analises de dados\", \"Data Science\", \"Machine Learning\"]\n",
    "lista"
   ]
  },
  {
   "cell_type": "code",
   "execution_count": 64,
   "id": "319845d3",
   "metadata": {},
   "outputs": [
    {
     "data": {
      "text/plain": [
       "['Analises de dados',\n",
       " 'Data Science',\n",
       " 'Machine Learning',\n",
       " 'Statistic',\n",
       " 'Statistic']"
      ]
     },
     "execution_count": 64,
     "metadata": {},
     "output_type": "execute_result"
    }
   ],
   "source": [
    "# adicionar um elemento a lista\n",
    "lista.append(\"Statistic\")\n",
    "lista"
   ]
  },
  {
   "cell_type": "code",
   "execution_count": 65,
   "id": "efe47837",
   "metadata": {},
   "outputs": [],
   "source": [
    "# remover lista\n",
    "lista.remove(\"Statistic\")\n",
    "lista"
   ]
  },
  {
   "cell_type": "code",
   "execution_count": 69,
   "id": "9c2860fd",
   "metadata": {},
   "outputs": [
    {
     "data": {
      "text/plain": [
       "1"
      ]
     },
     "execution_count": 69,
     "metadata": {},
     "output_type": "execute_result"
    }
   ],
   "source": [
    "# contar numero vezes de um string\n",
    "lista.count(\"Statistic\")"
   ]
  },
  {
   "cell_type": "code",
   "execution_count": 72,
   "id": "3e8d6c32",
   "metadata": {},
   "outputs": [
    {
     "data": {
      "text/plain": [
       "[]"
      ]
     },
     "execution_count": 72,
     "metadata": {},
     "output_type": "execute_result"
    }
   ],
   "source": [
    "# criando lista vazia\n",
    "lista_new = []\n",
    "lista_new"
   ]
  },
  {
   "cell_type": "code",
   "execution_count": 91,
   "id": "46b8473e",
   "metadata": {},
   "outputs": [
    {
     "data": {
      "text/plain": [
       "[0, 1, 2, 3, 4, 5, 6, 7, 8, 9, 10, 11, 12, 13, 14, 15, 16, 17, 18, 19]"
      ]
     },
     "execution_count": 91,
     "metadata": {},
     "output_type": "execute_result"
    }
   ],
   "source": [
    "lista_old = list(range(20))\n",
    "lista_old"
   ]
  },
  {
   "cell_type": "code",
   "execution_count": 92,
   "id": "8743b115",
   "metadata": {},
   "outputs": [
    {
     "data": {
      "text/plain": [
       "[0,\n",
       " 1,\n",
       " 2,\n",
       " 3,\n",
       " 4,\n",
       " 0,\n",
       " 1,\n",
       " 2,\n",
       " 3,\n",
       " 4,\n",
       " 5,\n",
       " 6,\n",
       " 7,\n",
       " 8,\n",
       " 9,\n",
       " 10,\n",
       " 11,\n",
       " 12,\n",
       " 13,\n",
       " 14,\n",
       " 15,\n",
       " 16,\n",
       " 17,\n",
       " 18,\n",
       " 19]"
      ]
     },
     "execution_count": 92,
     "metadata": {},
     "output_type": "execute_result"
    }
   ],
   "source": [
    "for item in lista_old:\n",
    "    lista_new.append(lista_old[item])\n",
    "lista_new"
   ]
  },
  {
   "cell_type": "code",
   "execution_count": 96,
   "id": "48aa4548",
   "metadata": {},
   "outputs": [
    {
     "data": {
      "text/plain": [
       "[0,\n",
       " 1,\n",
       " 2,\n",
       " 3,\n",
       " 4,\n",
       " 0,\n",
       " 1,\n",
       " 2,\n",
       " 3,\n",
       " 4,\n",
       " 5,\n",
       " 6,\n",
       " 7,\n",
       " 8,\n",
       " 9,\n",
       " 10,\n",
       " 11,\n",
       " 12,\n",
       " 13,\n",
       " 14,\n",
       " 15,\n",
       " 16,\n",
       " 17,\n",
       " 18,\n",
       " 19,\n",
       " 20,\n",
       " 30,\n",
       " 40,\n",
       " 50,\n",
       " 100,\n",
       " 20,\n",
       " 30,\n",
       " 40,\n",
       " 50,\n",
       " 100]"
      ]
     },
     "execution_count": 96,
     "metadata": {},
     "output_type": "execute_result"
    }
   ],
   "source": [
    "lista_old = [20, 30, 40, 50, 100]\n",
    "for item in lista_old:\n",
    "    lista_new.append(item)\n",
    "lista_new"
   ]
  },
  {
   "cell_type": "code",
   "execution_count": 97,
   "id": "0f5f7a4a",
   "metadata": {},
   "outputs": [
    {
     "data": {
      "text/plain": [
       "['Recife', 'Campinas', 'Marabá', 'Fortaleza', 'Curitiba']"
      ]
     },
     "execution_count": 97,
     "metadata": {},
     "output_type": "execute_result"
    }
   ],
   "source": [
    "cidades = [\"Recife\", \"Campinas\", \"Marabá\"]\n",
    "cidades.extend([\"Fortaleza\", \"Curitiba\"])\n",
    "cidades"
   ]
  },
  {
   "cell_type": "code",
   "execution_count": 99,
   "id": "de74d193",
   "metadata": {},
   "outputs": [
    {
     "data": {
      "text/plain": [
       "1"
      ]
     },
     "execution_count": 99,
     "metadata": {},
     "output_type": "execute_result"
    }
   ],
   "source": [
    "cidades.index(\"Campinas\")"
   ]
  },
  {
   "cell_type": "code",
   "execution_count": 100,
   "id": "016646a5",
   "metadata": {},
   "outputs": [
    {
     "data": {
      "text/plain": [
       "0"
      ]
     },
     "execution_count": 100,
     "metadata": {},
     "output_type": "execute_result"
    }
   ],
   "source": [
    "cidades.index(\"Recife\")"
   ]
  },
  {
   "cell_type": "code",
   "execution_count": 101,
   "id": "13cd4eff",
   "metadata": {},
   "outputs": [
    {
     "data": {
      "text/plain": [
       "['Recife', 'Campinas', 100, 'Marabá', 'Fortaleza', 'Curitiba']"
      ]
     },
     "execution_count": 101,
     "metadata": {},
     "output_type": "execute_result"
    }
   ],
   "source": [
    "cidades.insert(2, 100)\n",
    "cidades"
   ]
  },
  {
   "cell_type": "code",
   "execution_count": 103,
   "id": "625ff33d",
   "metadata": {},
   "outputs": [],
   "source": [
    "cidades.remove(100)"
   ]
  },
  {
   "cell_type": "code",
   "execution_count": 104,
   "id": "e29de04d",
   "metadata": {},
   "outputs": [
    {
     "data": {
      "text/plain": [
       "['Recife', 'Campinas', 'Marabá', 'Fortaleza', 'Curitiba']"
      ]
     },
     "execution_count": 104,
     "metadata": {},
     "output_type": "execute_result"
    }
   ],
   "source": [
    "cidades"
   ]
  },
  {
   "cell_type": "code",
   "execution_count": 105,
   "id": "425533ae",
   "metadata": {},
   "outputs": [],
   "source": [
    "# reverte a lista\n",
    "cidades.reverse()"
   ]
  },
  {
   "cell_type": "code",
   "execution_count": 106,
   "id": "26df5536",
   "metadata": {},
   "outputs": [
    {
     "data": {
      "text/plain": [
       "['Curitiba', 'Fortaleza', 'Marabá', 'Campinas', 'Recife']"
      ]
     },
     "execution_count": 106,
     "metadata": {},
     "output_type": "execute_result"
    }
   ],
   "source": [
    "cidades"
   ]
  },
  {
   "cell_type": "code",
   "execution_count": 109,
   "id": "899e3466",
   "metadata": {},
   "outputs": [
    {
     "data": {
      "text/plain": [
       "['Campinas', 'Curitiba', 'Fortaleza', 'Marabá', 'Recife']"
      ]
     },
     "execution_count": 109,
     "metadata": {},
     "output_type": "execute_result"
    }
   ],
   "source": [
    "cidades.sort()\n",
    "cidades"
   ]
  },
  {
   "cell_type": "code",
   "execution_count": null,
   "id": "69352f7e",
   "metadata": {},
   "outputs": [],
   "source": []
  }
 ],
 "metadata": {
  "kernelspec": {
   "display_name": "Python 3 (ipykernel)",
   "language": "python",
   "name": "python3"
  },
  "language_info": {
   "codemirror_mode": {
    "name": "ipython",
    "version": 3
   },
   "file_extension": ".py",
   "mimetype": "text/x-python",
   "name": "python",
   "nbconvert_exporter": "python",
   "pygments_lexer": "ipython3",
   "version": "3.9.13"
  }
 },
 "nbformat": 4,
 "nbformat_minor": 5
}
