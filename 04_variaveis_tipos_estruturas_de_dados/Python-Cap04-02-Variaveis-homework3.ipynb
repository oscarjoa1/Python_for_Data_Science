{
 "cells": [
  {
   "cell_type": "markdown",
   "id": "057e4bcc",
   "metadata": {},
   "source": [
    "# <font color = \"blue\"> Variáveis e Operadores </font>"
   ]
  },
  {
   "cell_type": "code",
   "execution_count": 1,
   "id": "6588d867",
   "metadata": {},
   "outputs": [
    {
     "name": "stdout",
     "output_type": "stream",
     "text": [
      "versao de Python: 3.9.13\n"
     ]
    }
   ],
   "source": [
    "# versao de Pyhton\n",
    "from platform import python_version\n",
    "print(\"versao de Python:\", python_version()) "
   ]
  },
  {
   "cell_type": "code",
   "execution_count": null,
   "id": "c7fa0e54",
   "metadata": {},
   "outputs": [],
   "source": [
    "# atribuir numero inteiro a variavel\n",
    "var_test = 1"
   ]
  },
  {
   "cell_type": "code",
   "execution_count": null,
   "id": "18f5a28a",
   "metadata": {},
   "outputs": [],
   "source": [
    "# imprimento o valor de \"var_test\"\n",
    "var_test"
   ]
  },
  {
   "cell_type": "code",
   "execution_count": null,
   "id": "00884001",
   "metadata": {},
   "outputs": [],
   "source": [
    "# imprimir com a funcao \"print\"\n",
    "print(var_test)"
   ]
  },
  {
   "cell_type": "code",
   "execution_count": null,
   "id": "305cd36c",
   "metadata": {},
   "outputs": [],
   "source": [
    "# nao e possivel imprimir uma variavel nao criada\n",
    "var_nao_criada"
   ]
  },
  {
   "cell_type": "code",
   "execution_count": null,
   "id": "b18234e0",
   "metadata": {},
   "outputs": [],
   "source": [
    "# sobre-escrever a variavel\n",
    "var_test = 2\n",
    "var_test"
   ]
  },
  {
   "cell_type": "code",
   "execution_count": null,
   "id": "983abcdd",
   "metadata": {},
   "outputs": [],
   "source": [
    "# classe da variavel\n",
    "type(var_test)"
   ]
  },
  {
   "cell_type": "code",
   "execution_count": null,
   "id": "197490ca",
   "metadata": {},
   "outputs": [],
   "source": [
    "# variavel float\n",
    "var_test = 10.0\n",
    "var_test"
   ]
  },
  {
   "cell_type": "code",
   "execution_count": null,
   "id": "bb3bd575",
   "metadata": {},
   "outputs": [],
   "source": [
    "# criar variavel nome letra\n",
    "x = 1\n",
    "x"
   ]
  },
  {
   "cell_type": "markdown",
   "id": "f7310944",
   "metadata": {},
   "source": [
    "## Declaração múltiplica"
   ]
  },
  {
   "cell_type": "code",
   "execution_count": null,
   "id": "c4480260",
   "metadata": {},
   "outputs": [],
   "source": [
    "pessoa1, pessoa2, pessoa3 = \"Bob\", 2, 1.5"
   ]
  },
  {
   "cell_type": "code",
   "execution_count": null,
   "id": "3444983a",
   "metadata": {},
   "outputs": [],
   "source": [
    "pessoa1"
   ]
  },
  {
   "cell_type": "code",
   "execution_count": null,
   "id": "e8950193",
   "metadata": {},
   "outputs": [],
   "source": [
    "pessoa2"
   ]
  },
  {
   "cell_type": "code",
   "execution_count": null,
   "id": "ff33d839",
   "metadata": {},
   "outputs": [],
   "source": [
    "pessoa3"
   ]
  },
  {
   "cell_type": "code",
   "execution_count": null,
   "id": "d08f1d3d",
   "metadata": {},
   "outputs": [],
   "source": [
    "fruta1 = fruta2 = fruta3 = \"Melancia\""
   ]
  },
  {
   "cell_type": "code",
   "execution_count": null,
   "id": "94f2c0a2",
   "metadata": {},
   "outputs": [],
   "source": [
    "fruta1"
   ]
  },
  {
   "cell_type": "code",
   "execution_count": null,
   "id": "c6ad34ec",
   "metadata": {},
   "outputs": [],
   "source": [
    "fruta2"
   ]
  },
  {
   "cell_type": "code",
   "execution_count": null,
   "id": "f5a29f37",
   "metadata": {},
   "outputs": [],
   "source": [
    "fruta3"
   ]
  },
  {
   "cell_type": "code",
   "execution_count": null,
   "id": "55b071c2",
   "metadata": {},
   "outputs": [],
   "source": [
    "# pyhton é case-sensitive\n",
    "Fruta1"
   ]
  },
  {
   "cell_type": "code",
   "execution_count": null,
   "id": "9a4f6159",
   "metadata": {},
   "outputs": [],
   "source": [
    "# igual no que em R nao se pode nomear variaveis iniciando com un número.\n",
    "1x = 2"
   ]
  },
  {
   "cell_type": "code",
   "execution_count": null,
   "id": "f04061bf",
   "metadata": {},
   "outputs": [],
   "source": [
    "# nao se pode usar palavras reservadas\n",
    "break = 1"
   ]
  },
  {
   "cell_type": "markdown",
   "id": "80844bf5",
   "metadata": {},
   "source": [
    "## Variáveis atribuidas a outras variáveis e ordem de operações"
   ]
  },
  {
   "cell_type": "code",
   "execution_count": null,
   "id": "7a2faec7",
   "metadata": {},
   "outputs": [],
   "source": [
    "largura = 5"
   ]
  },
  {
   "cell_type": "code",
   "execution_count": null,
   "id": "2af7d821",
   "metadata": {},
   "outputs": [],
   "source": [
    "altura = 10"
   ]
  },
  {
   "cell_type": "code",
   "execution_count": null,
   "id": "845b2615",
   "metadata": {},
   "outputs": [],
   "source": [
    "area = largura * altura\n",
    "area"
   ]
  },
  {
   "cell_type": "code",
   "execution_count": null,
   "id": "e295c51a",
   "metadata": {},
   "outputs": [],
   "source": [
    "perimetro = (2 * largura) + (2 * altura)\n",
    "perimetro"
   ]
  },
  {
   "cell_type": "markdown",
   "id": "587670e8",
   "metadata": {},
   "source": [
    "## Concatenação de variáveis"
   ]
  },
  {
   "cell_type": "code",
   "execution_count": null,
   "id": "10ec1224",
   "metadata": {},
   "outputs": [],
   "source": [
    "nome = \"Jazmin\"\n",
    "sobrenome = \"Ayala\"\n",
    "nomeCompleto = nome + \" \" + sobrenome\n",
    "nomeCompleto"
   ]
  },
  {
   "cell_type": "markdown",
   "id": "0c46f537",
   "metadata": {},
   "source": [
    "## Fim \n",
    "### Obrigado! "
   ]
  }
 ],
 "metadata": {
  "kernelspec": {
   "display_name": "Python 3 (ipykernel)",
   "language": "python",
   "name": "python3"
  },
  "language_info": {
   "codemirror_mode": {
    "name": "ipython",
    "version": 3
   },
   "file_extension": ".py",
   "mimetype": "text/x-python",
   "name": "python",
   "nbconvert_exporter": "python",
   "pygments_lexer": "ipython3",
   "version": "3.9.13"
  }
 },
 "nbformat": 4,
 "nbformat_minor": 5
}
