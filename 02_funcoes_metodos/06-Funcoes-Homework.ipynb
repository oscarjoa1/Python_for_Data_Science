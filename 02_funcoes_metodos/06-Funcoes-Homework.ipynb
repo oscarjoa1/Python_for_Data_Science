{
 "cells": [
  {
   "cell_type": "markdown",
   "id": "b91c8dd5",
   "metadata": {},
   "source": [
    "# <font color = \"blue\"> Capítulo 5 - Funções </font>"
   ]
  },
  {
   "cell_type": "code",
   "execution_count": 1,
   "id": "ff8f345b",
   "metadata": {},
   "outputs": [
    {
     "name": "stdout",
     "output_type": "stream",
     "text": [
      "Python versão 3.9.13\n"
     ]
    }
   ],
   "source": [
    "# versão da linguagem Python\n",
    "from platform import python_version\n",
    "print(\"Python versão\", python_version())"
   ]
  },
  {
   "cell_type": "markdown",
   "id": "a0c68dd9",
   "metadata": {},
   "source": [
    "## Funções "
   ]
  },
  {
   "cell_type": "code",
   "execution_count": 5,
   "id": "f805ad8c",
   "metadata": {},
   "outputs": [
    {
     "name": "stdout",
     "output_type": "stream",
     "text": [
      "hello world\n"
     ]
    }
   ],
   "source": [
    "# função built-in\n",
    "print(\"hello world\")"
   ]
  },
  {
   "cell_type": "code",
   "execution_count": 6,
   "id": "b4381a8c",
   "metadata": {},
   "outputs": [
    {
     "data": {
      "text/plain": [
       "10"
      ]
     },
     "execution_count": 6,
     "metadata": {},
     "output_type": "execute_result"
    }
   ],
   "source": [
    "# função built-in\n",
    "len(list(range(1, 20, 2)))"
   ]
  },
  {
   "cell_type": "code",
   "execution_count": 7,
   "id": "bd913c23",
   "metadata": {},
   "outputs": [],
   "source": [
    "# definindo um função\n",
    "def funcfirt():\n",
    "    print(\"Hello World\")"
   ]
  },
  {
   "cell_type": "code",
   "execution_count": 8,
   "id": "e5255964",
   "metadata": {},
   "outputs": [
    {
     "name": "stdout",
     "output_type": "stream",
     "text": [
      "Hello World\n"
     ]
    }
   ],
   "source": [
    "funcfirt()"
   ]
  },
  {
   "cell_type": "code",
   "execution_count": 10,
   "id": "e6d7f94c",
   "metadata": {},
   "outputs": [],
   "source": [
    "# definindo uma função \n",
    "def functionSecond():\n",
    "    nome = \"Bob\"\n",
    "    print(\"Hello %s\" %(nome))"
   ]
  },
  {
   "cell_type": "code",
   "execution_count": 11,
   "id": "6f41c840",
   "metadata": {},
   "outputs": [
    {
     "name": "stdout",
     "output_type": "stream",
     "text": [
      "Hello Bob\n"
     ]
    }
   ],
   "source": [
    "functionSecond()"
   ]
  },
  {
   "cell_type": "code",
   "execution_count": 12,
   "id": "145440dd",
   "metadata": {},
   "outputs": [],
   "source": [
    "def functionSecond(nome, idade):\n",
    "    print(\"Hello! Meu nome é %s e tenho %d anos\" %(nome, idade))"
   ]
  },
  {
   "cell_type": "code",
   "execution_count": 14,
   "id": "94a63111",
   "metadata": {},
   "outputs": [
    {
     "name": "stdout",
     "output_type": "stream",
     "text": [
      "Hello! Meu nome é Oscar e tenho 29 anos\n"
     ]
    }
   ],
   "source": [
    "functionSecond(\"Oscar\", 29)"
   ]
  },
  {
   "cell_type": "code",
   "execution_count": 16,
   "id": "a7c658b0",
   "metadata": {},
   "outputs": [],
   "source": [
    "# Função para imprimir números\n",
    "def functionThree(n):\n",
    "    #loop\n",
    "    for i in range(1, n):\n",
    "        print(\"Número:\", i)"
   ]
  },
  {
   "cell_type": "code",
   "execution_count": 18,
   "id": "490a6586",
   "metadata": {},
   "outputs": [
    {
     "name": "stdout",
     "output_type": "stream",
     "text": [
      "Número: 1\n",
      "Número: 2\n",
      "Número: 3\n",
      "Número: 4\n",
      "Número: 5\n",
      "Número: 6\n",
      "Número: 7\n",
      "Número: 8\n",
      "Número: 9\n",
      "Número: 10\n",
      "Número: 11\n",
      "Número: 12\n",
      "Número: 13\n",
      "Número: 14\n",
      "Número: 15\n",
      "Número: 16\n",
      "Número: 17\n",
      "Número: 18\n",
      "Número: 19\n",
      "Número: 20\n",
      "Número: 21\n",
      "Número: 22\n",
      "Número: 23\n",
      "Número: 24\n",
      "Número: 25\n",
      "Número: 26\n",
      "Número: 27\n",
      "Número: 28\n",
      "Número: 29\n",
      "Número: 30\n",
      "Número: 31\n",
      "Número: 32\n",
      "Número: 33\n",
      "Número: 34\n",
      "Número: 35\n",
      "Número: 36\n",
      "Número: 37\n",
      "Número: 38\n",
      "Número: 39\n",
      "Número: 40\n",
      "Número: 41\n",
      "Número: 42\n",
      "Número: 43\n",
      "Número: 44\n",
      "Número: 45\n",
      "Número: 46\n",
      "Número: 47\n",
      "Número: 48\n",
      "Número: 49\n",
      "Número: 50\n",
      "Número: 51\n",
      "Número: 52\n",
      "Número: 53\n",
      "Número: 54\n",
      "Número: 55\n",
      "Número: 56\n",
      "Número: 57\n",
      "Número: 58\n",
      "Número: 59\n",
      "Número: 60\n",
      "Número: 61\n",
      "Número: 62\n",
      "Número: 63\n",
      "Número: 64\n",
      "Número: 65\n",
      "Número: 66\n",
      "Número: 67\n",
      "Número: 68\n",
      "Número: 69\n",
      "Número: 70\n",
      "Número: 71\n",
      "Número: 72\n",
      "Número: 73\n",
      "Número: 74\n",
      "Número: 75\n",
      "Número: 76\n",
      "Número: 77\n",
      "Número: 78\n",
      "Número: 79\n",
      "Número: 80\n",
      "Número: 81\n",
      "Número: 82\n",
      "Número: 83\n",
      "Número: 84\n",
      "Número: 85\n",
      "Número: 86\n",
      "Número: 87\n",
      "Número: 88\n",
      "Número: 89\n",
      "Número: 90\n",
      "Número: 91\n",
      "Número: 92\n",
      "Número: 93\n",
      "Número: 94\n",
      "Número: 95\n",
      "Número: 96\n",
      "Número: 97\n",
      "Número: 98\n",
      "Número: 99\n"
     ]
    }
   ],
   "source": [
    "functionThree(100)"
   ]
  },
  {
   "cell_type": "code",
   "execution_count": 19,
   "id": "feced4e7",
   "metadata": {},
   "outputs": [],
   "source": [
    "# Função para somar números\n",
    "def funcSum(num1, num2):\n",
    "    print(\"Primeiro número:\", num1)\n",
    "    print(\"Segundo número:\", num2)\n",
    "    print(\"Soma:\", num1 + num2)"
   ]
  },
  {
   "cell_type": "code",
   "execution_count": 20,
   "id": "92d9319d",
   "metadata": {},
   "outputs": [
    {
     "name": "stdout",
     "output_type": "stream",
     "text": [
      "Primeiro número: 19\n",
      "Segundo número: 10\n",
      "Soma: 29\n"
     ]
    }
   ],
   "source": [
    "funcSum(19, 10)"
   ]
  },
  {
   "cell_type": "code",
   "execution_count": 25,
   "id": "0ad64603",
   "metadata": {},
   "outputs": [],
   "source": [
    "# Função com número variável de argumentos\n",
    "def printVarInfo(requer1, *vartuple):\n",
    "    # imprimir argumento requerido\n",
    "    print(\"O argumento requerido\", requer1)\n",
    "    for i in vartuple:\n",
    "        print(\"O argumento passado foi:\", i)\n",
    "    return;"
   ]
  },
  {
   "cell_type": "code",
   "execution_count": 27,
   "id": "ec73fc4d",
   "metadata": {},
   "outputs": [
    {
     "name": "stdout",
     "output_type": "stream",
     "text": [
      "O argumento requerido Vida\n"
     ]
    }
   ],
   "source": [
    "# chamando a função\n",
    "printVarInfo(\"Vida\")"
   ]
  },
  {
   "cell_type": "code",
   "execution_count": 28,
   "id": "db992483",
   "metadata": {},
   "outputs": [
    {
     "name": "stdout",
     "output_type": "stream",
     "text": [
      "O argumento requerido Vida\n",
      "O argumento passado foi: Alegria\n",
      "O argumento passado foi: Paz\n",
      "O argumento passado foi: Bondad\n"
     ]
    }
   ],
   "source": [
    "# chamando a função\n",
    "printVarInfo(\"Vida\", \"Alegria\", \"Paz\", \"Bondad\")"
   ]
  },
  {
   "cell_type": "markdown",
   "id": "e08d380c",
   "metadata": {},
   "source": [
    "## Escopo de Variável - Local e Global¶"
   ]
  },
  {
   "cell_type": "code",
   "execution_count": 30,
   "id": "a4adf269",
   "metadata": {},
   "outputs": [],
   "source": [
    "# variavel global\n",
    "var_global = 29\n",
    "\n",
    "# Função\n",
    "def multNum(num1, num2):\n",
    "    var_global = num1 * num2\n",
    "    print(var_global)\n",
    "    return;"
   ]
  },
  {
   "cell_type": "code",
   "execution_count": 31,
   "id": "746881c5",
   "metadata": {},
   "outputs": [
    {
     "name": "stdout",
     "output_type": "stream",
     "text": [
      "500\n"
     ]
    }
   ],
   "source": [
    "# chamando a funcao\n",
    "multNum(10, 50)"
   ]
  },
  {
   "cell_type": "code",
   "execution_count": 32,
   "id": "51a57290",
   "metadata": {},
   "outputs": [
    {
     "name": "stdout",
     "output_type": "stream",
     "text": [
      "29\n"
     ]
    }
   ],
   "source": [
    "print(var_global)"
   ]
  },
  {
   "cell_type": "code",
   "execution_count": 33,
   "id": "2e33c615",
   "metadata": {},
   "outputs": [],
   "source": [
    "# O ideal é criar variaveis locais e globais com nomes diferentes\n",
    "\n",
    "# variável global\n",
    "var_global = 10\n",
    "\n",
    "# Função\n",
    "def multNum(num1, num2):\n",
    "    var_local = num1 * num2\n",
    "    print(var_local)\n",
    "    return;\n",
    "\n"
   ]
  },
  {
   "cell_type": "code",
   "execution_count": 34,
   "id": "83cf189c",
   "metadata": {},
   "outputs": [
    {
     "name": "stdout",
     "output_type": "stream",
     "text": [
      "500\n"
     ]
    },
    {
     "data": {
      "text/plain": [
       "10"
      ]
     },
     "execution_count": 34,
     "metadata": {},
     "output_type": "execute_result"
    }
   ],
   "source": [
    "# chamando a funcao\n",
    "multNum(10, 50)\n",
    "var_global"
   ]
  },
  {
   "cell_type": "markdown",
   "id": "bdccd1a8",
   "metadata": {},
   "source": [
    "## Funções Built-in"
   ]
  },
  {
   "cell_type": "code",
   "execution_count": 37,
   "id": "6bd5eb7b",
   "metadata": {},
   "outputs": [
    {
     "data": {
      "text/plain": [
       "10"
      ]
     },
     "execution_count": 37,
     "metadata": {},
     "output_type": "execute_result"
    }
   ],
   "source": [
    "abs(-10)"
   ]
  },
  {
   "cell_type": "code",
   "execution_count": 38,
   "id": "ec80e6d3",
   "metadata": {},
   "outputs": [
    {
     "data": {
      "text/plain": [
       "30"
      ]
     },
     "execution_count": 38,
     "metadata": {},
     "output_type": "execute_result"
    }
   ],
   "source": [
    "abs(30)"
   ]
  },
  {
   "cell_type": "code",
   "execution_count": 39,
   "id": "f6c9fc39",
   "metadata": {},
   "outputs": [
    {
     "data": {
      "text/plain": [
       "True"
      ]
     },
     "execution_count": 39,
     "metadata": {},
     "output_type": "execute_result"
    }
   ],
   "source": [
    "bool(1)"
   ]
  },
  {
   "cell_type": "code",
   "execution_count": 40,
   "id": "c4d0b01d",
   "metadata": {},
   "outputs": [
    {
     "data": {
      "text/plain": [
       "False"
      ]
     },
     "execution_count": 40,
     "metadata": {},
     "output_type": "execute_result"
    }
   ],
   "source": [
    "bool(0)"
   ]
  },
  {
   "cell_type": "code",
   "execution_count": 41,
   "id": "9e1e9380",
   "metadata": {},
   "outputs": [
    {
     "data": {
      "text/plain": [
       "'13'"
      ]
     },
     "execution_count": 41,
     "metadata": {},
     "output_type": "execute_result"
    }
   ],
   "source": [
    "str(13)"
   ]
  },
  {
   "cell_type": "code",
   "execution_count": 42,
   "id": "f7e707b9",
   "metadata": {},
   "outputs": [
    {
     "data": {
      "text/plain": [
       "14"
      ]
     },
     "execution_count": 42,
     "metadata": {},
     "output_type": "execute_result"
    }
   ],
   "source": [
    "int(14.9)"
   ]
  },
  {
   "cell_type": "code",
   "execution_count": 43,
   "id": "b914fef2",
   "metadata": {},
   "outputs": [
    {
     "data": {
      "text/plain": [
       "5.0"
      ]
     },
     "execution_count": 43,
     "metadata": {},
     "output_type": "execute_result"
    }
   ],
   "source": [
    "float(5)"
   ]
  }
 ],
 "metadata": {
  "kernelspec": {
   "display_name": "Python 3 (ipykernel)",
   "language": "python",
   "name": "python3"
  },
  "language_info": {
   "codemirror_mode": {
    "name": "ipython",
    "version": 3
   },
   "file_extension": ".py",
   "mimetype": "text/x-python",
   "name": "python",
   "nbconvert_exporter": "python",
   "pygments_lexer": "ipython3",
   "version": "3.9.13"
  }
 },
 "nbformat": 4,
 "nbformat_minor": 5
}
