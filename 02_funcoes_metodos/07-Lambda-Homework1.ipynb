{
 "cells": [
  {
   "cell_type": "markdown",
   "id": "fd73ad34",
   "metadata": {},
   "source": [
    "# <font color = \"blue\"> Expressão Lambda </font>"
   ]
  },
  {
   "cell_type": "code",
   "execution_count": 1,
   "id": "df225fd6",
   "metadata": {},
   "outputs": [
    {
     "name": "stdout",
     "output_type": "stream",
     "text": [
      "Versão Python 3.9.13\n"
     ]
    }
   ],
   "source": [
    "# Versão linguagem Python\n",
    "from platform import python_version\n",
    "print(\"Versão Python\", python_version())"
   ]
  },
  {
   "cell_type": "markdown",
   "id": "047b916d",
   "metadata": {},
   "source": [
    "## Expressão Lambda"
   ]
  },
  {
   "cell_type": "code",
   "execution_count": 2,
   "id": "56be170e",
   "metadata": {},
   "outputs": [
    {
     "data": {
      "text/plain": [
       "25"
      ]
     },
     "execution_count": 2,
     "metadata": {},
     "output_type": "execute_result"
    }
   ],
   "source": [
    "# potencia de um número\n",
    "pow(5, 2)"
   ]
  },
  {
   "cell_type": "code",
   "execution_count": 3,
   "id": "089dfaac",
   "metadata": {},
   "outputs": [],
   "source": [
    "# função para obter a potência de um número\n",
    "def potencia(num, pot):\n",
    "    return num ** pot"
   ]
  },
  {
   "cell_type": "code",
   "execution_count": 4,
   "id": "be760a8e",
   "metadata": {},
   "outputs": [
    {
     "data": {
      "text/plain": [
       "25"
      ]
     },
     "execution_count": 4,
     "metadata": {},
     "output_type": "execute_result"
    }
   ],
   "source": [
    "potencia(5, 2)"
   ]
  },
  {
   "cell_type": "code",
   "execution_count": 5,
   "id": "45c29e53",
   "metadata": {},
   "outputs": [],
   "source": [
    "# definindo uma expressão lambda (anônima)\n",
    "potencia1 = lambda num, pot: num ** pot"
   ]
  },
  {
   "cell_type": "code",
   "execution_count": 6,
   "id": "350f48b1",
   "metadata": {},
   "outputs": [
    {
     "data": {
      "text/plain": [
       "25"
      ]
     },
     "execution_count": 6,
     "metadata": {},
     "output_type": "execute_result"
    }
   ],
   "source": [
    "potencia1(5, 2)"
   ]
  },
  {
   "cell_type": "code",
   "execution_count": 7,
   "id": "6f418454",
   "metadata": {},
   "outputs": [],
   "source": [
    "parc = lambda x: x%2 == 0"
   ]
  },
  {
   "cell_type": "code",
   "execution_count": 8,
   "id": "a18120d3",
   "metadata": {},
   "outputs": [
    {
     "data": {
      "text/plain": [
       "True"
      ]
     },
     "execution_count": 8,
     "metadata": {},
     "output_type": "execute_result"
    }
   ],
   "source": [
    "parc(4)"
   ]
  },
  {
   "cell_type": "code",
   "execution_count": 9,
   "id": "81499c2b",
   "metadata": {},
   "outputs": [
    {
     "data": {
      "text/plain": [
       "False"
      ]
     },
     "execution_count": 9,
     "metadata": {},
     "output_type": "execute_result"
    }
   ],
   "source": [
    "parc(3)"
   ]
  },
  {
   "cell_type": "code",
   "execution_count": 10,
   "id": "1aa08c9d",
   "metadata": {},
   "outputs": [],
   "source": [
    "first = lambda s: s[0]"
   ]
  },
  {
   "cell_type": "code",
   "execution_count": 11,
   "id": "3b5aaea3",
   "metadata": {},
   "outputs": [
    {
     "data": {
      "text/plain": [
       "'P'"
      ]
     },
     "execution_count": 11,
     "metadata": {},
     "output_type": "execute_result"
    }
   ],
   "source": [
    "first(\"Python\")"
   ]
  },
  {
   "cell_type": "code",
   "execution_count": 12,
   "id": "5017e1ba",
   "metadata": {},
   "outputs": [],
   "source": [
    "reverso = lambda s:s[::-1]"
   ]
  },
  {
   "cell_type": "code",
   "execution_count": 13,
   "id": "a21b0262",
   "metadata": {},
   "outputs": [
    {
     "data": {
      "text/plain": [
       "'nohtyP'"
      ]
     },
     "execution_count": 13,
     "metadata": {},
     "output_type": "execute_result"
    }
   ],
   "source": [
    "reverso(\"Python\")"
   ]
  },
  {
   "cell_type": "code",
   "execution_count": 14,
   "id": "9b0b236c",
   "metadata": {},
   "outputs": [],
   "source": [
    "addNum = lambda x, y : x + y"
   ]
  },
  {
   "cell_type": "code",
   "execution_count": 15,
   "id": "8a70e780",
   "metadata": {},
   "outputs": [
    {
     "data": {
      "text/plain": [
       "21"
      ]
     },
     "execution_count": 15,
     "metadata": {},
     "output_type": "execute_result"
    }
   ],
   "source": [
    "addNum(10, 11)"
   ]
  },
  {
   "cell_type": "markdown",
   "id": "0c4ffa59",
   "metadata": {},
   "source": [
    "## Fim\n",
    "### Muito Obrigado"
   ]
  }
 ],
 "metadata": {
  "kernelspec": {
   "display_name": "Python 3 (ipykernel)",
   "language": "python",
   "name": "python3"
  },
  "language_info": {
   "codemirror_mode": {
    "name": "ipython",
    "version": 3
   },
   "file_extension": ".py",
   "mimetype": "text/x-python",
   "name": "python",
   "nbconvert_exporter": "python",
   "pygments_lexer": "ipython3",
   "version": "3.9.13"
  }
 },
 "nbformat": 4,
 "nbformat_minor": 5
}
