{
 "cells": [
  {
   "cell_type": "markdown",
   "id": "7ae8de2b",
   "metadata": {},
   "source": [
    "# <font color = \"blue\"> List Comprehension </font>"
   ]
  },
  {
   "cell_type": "code",
   "execution_count": 1,
   "id": "24b84ad0",
   "metadata": {},
   "outputs": [
    {
     "name": "stdout",
     "output_type": "stream",
     "text": [
      "Versão Python 3.9.13\n"
     ]
    }
   ],
   "source": [
    "# Versão linguagem Python\n",
    "from platform import python_version\n",
    "print(\"Versão Python\", python_version())"
   ]
  },
  {
   "cell_type": "markdown",
   "id": "18c4d246",
   "metadata": {},
   "source": [
    "## List comprehension\n",
    "[expressão for item in interable if condição == True]"
   ]
  },
  {
   "cell_type": "code",
   "execution_count": 2,
   "id": "88167c7f",
   "metadata": {},
   "outputs": [
    {
     "data": {
      "text/plain": [
       "[0, 1, 2, 3, 4, 5, 6, 7, 8, 9, 10]"
      ]
     },
     "execution_count": 2,
     "metadata": {},
     "output_type": "execute_result"
    }
   ],
   "source": [
    "# List comprehension que imprime os números até 10 \n",
    "[x for x in range(0, 11)]\n"
   ]
  },
  {
   "cell_type": "code",
   "execution_count": 3,
   "id": "337953e6",
   "metadata": {},
   "outputs": [
    {
     "data": {
      "text/plain": [
       "[0, 1, 2, 3, 4, 5, 6, 7, 8, 9, 10]"
      ]
     },
     "execution_count": 3,
     "metadata": {},
     "output_type": "execute_result"
    }
   ],
   "source": [
    "# List comprehension que imprime os números até 10 e grava em uma lista python\n",
    "lista_numeros = [x for x in range(0, 11)]\n",
    "print(lista_numeros)"
   ]
  },
  {
   "cell_type": "code",
   "execution_count": 5,
   "id": "28069593",
   "metadata": {},
   "outputs": [
    {
     "name": "stdout",
     "output_type": "stream",
     "text": [
      "[0, 1, 2, 3, 4]\n"
     ]
    }
   ],
   "source": [
    "# List comprehension que imprime os números menores que 5 em um intervalo de 1 a 10\n",
    "lista2 = [x for x in range(0, 11) if x < 5]\n",
    "print(lista2)"
   ]
  },
  {
   "cell_type": "code",
   "execution_count": 6,
   "id": "e1da80a3",
   "metadata": {},
   "outputs": [],
   "source": [
    "# Lista de frutas \n",
    "lista_frutas = [\"banana\", \"laranja\", \"limao\", \"melancia\"]\n",
    "\n",
    "# nova lista\n",
    "nova_lista = []"
   ]
  },
  {
   "cell_type": "code",
   "execution_count": 7,
   "id": "707074c5",
   "metadata": {},
   "outputs": [
    {
     "name": "stdout",
     "output_type": "stream",
     "text": [
      "['limao', 'melancia']\n"
     ]
    }
   ],
   "source": [
    "nova_lista = [x for x in lista_frutas if \"m\" in x]\n",
    "print(nova_lista)"
   ]
  },
  {
   "cell_type": "code",
   "execution_count": null,
   "id": "f3f06448",
   "metadata": {},
   "outputs": [],
   "source": [
    "# Dict comprehension\n"
   ]
  }
 ],
 "metadata": {
  "kernelspec": {
   "display_name": "Python 3 (ipykernel)",
   "language": "python",
   "name": "python3"
  },
  "language_info": {
   "codemirror_mode": {
    "name": "ipython",
    "version": 3
   },
   "file_extension": ".py",
   "mimetype": "text/x-python",
   "name": "python",
   "nbconvert_exporter": "python",
   "pygments_lexer": "ipython3",
   "version": "3.9.13"
  }
 },
 "nbformat": 4,
 "nbformat_minor": 5
}
