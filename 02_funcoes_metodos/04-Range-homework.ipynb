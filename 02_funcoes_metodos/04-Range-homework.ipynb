{
 "cells": [
  {
   "cell_type": "markdown",
   "id": "a49736ed",
   "metadata": {},
   "source": [
    "# <font color = \"blue\"> Intervalos de Valores </font>"
   ]
  },
  {
   "cell_type": "code",
   "execution_count": 2,
   "id": "881de2c4",
   "metadata": {},
   "outputs": [
    {
     "name": "stdout",
     "output_type": "stream",
     "text": [
      "Versão da linguagem Python 3.9.13\n"
     ]
    }
   ],
   "source": [
    "# versão da linguagem python \n",
    "from platform import python_version\n",
    "print(\"Versão da linguagem Python\", python_version())"
   ]
  },
  {
   "cell_type": "markdown",
   "id": "c199796c",
   "metadata": {},
   "source": [
    "## Função Range"
   ]
  },
  {
   "cell_type": "code",
   "execution_count": 3,
   "id": "ceb0d317",
   "metadata": {},
   "outputs": [
    {
     "name": "stdout",
     "output_type": "stream",
     "text": [
      "interação 1\n",
      "interação 2\n",
      "interação 3\n",
      "interação 4\n",
      "interação 5\n",
      "interação 6\n",
      "interação 7\n",
      "interação 8\n",
      "interação 9\n",
      "interação 10\n"
     ]
    }
   ],
   "source": [
    "# imprimento número de 1 a 10\n",
    "for i in range(1, 11):\n",
    "    print(\"interação\", i)"
   ]
  },
  {
   "cell_type": "code",
   "execution_count": 6,
   "id": "b5766e28",
   "metadata": {},
   "outputs": [
    {
     "name": "stdout",
     "output_type": "stream",
     "text": [
      "50\n",
      "52\n",
      "54\n",
      "56\n",
      "58\n",
      "60\n",
      "62\n",
      "64\n",
      "66\n",
      "68\n",
      "70\n",
      "72\n",
      "74\n",
      "76\n",
      "78\n",
      "80\n",
      "82\n",
      "84\n",
      "86\n",
      "88\n",
      "90\n",
      "92\n",
      "94\n",
      "96\n",
      "98\n",
      "100\n"
     ]
    }
   ],
   "source": [
    "# Imprimento números pares entre 50 e 101 \n",
    "for i in range(50, 102, 2):\n",
    "    print(i)"
   ]
  },
  {
   "cell_type": "code",
   "execution_count": 9,
   "id": "9035a7c7",
   "metadata": {},
   "outputs": [
    {
     "name": "stdout",
     "output_type": "stream",
     "text": [
      "0\n",
      "-2\n",
      "-4\n",
      "-6\n",
      "-8\n",
      "-10\n",
      "-12\n",
      "-14\n",
      "-16\n",
      "-18\n",
      "-20\n"
     ]
    }
   ],
   "source": [
    "# imprimento os números pares negativos entre 0 e -20\n",
    "for i in range(0, -21, -2):\n",
    "    print(i)"
   ]
  },
  {
   "cell_type": "code",
   "execution_count": 11,
   "id": "059be4b9",
   "metadata": {},
   "outputs": [
    {
     "name": "stdout",
     "output_type": "stream",
     "text": [
      "-21\n",
      "-19\n",
      "-17\n",
      "-15\n",
      "-13\n",
      "-11\n",
      "-9\n",
      "-7\n",
      "-5\n",
      "-3\n",
      "-1\n"
     ]
    }
   ],
   "source": [
    "# imprimento os números pares negativos entre -20 a 0\n",
    "for i in range(-21, 0, 2):\n",
    "    print(i)"
   ]
  },
  {
   "cell_type": "code",
   "execution_count": 12,
   "id": "b2cfda6c",
   "metadata": {},
   "outputs": [
    {
     "name": "stdout",
     "output_type": "stream",
     "text": [
      "Abacaxi\n",
      "Banana\n",
      "Morango\n",
      "Uva\n"
     ]
    }
   ],
   "source": [
    "# Usando o tamanho de uma lista na função range()\n",
    "lista = [\"Abacaxi\", \"Banana\", \"Morango\", \"Uva\"]\n",
    "tamanhoLista = len(lista)\n",
    "for i in range(0, tamanhoLista):\n",
    "    print(lista[i])"
   ]
  },
  {
   "cell_type": "markdown",
   "id": "61293660",
   "metadata": {},
   "source": [
    "## Fim\n",
    "\n",
    "### Muito Obrigado"
   ]
  }
 ],
 "metadata": {
  "kernelspec": {
   "display_name": "Python 3 (ipykernel)",
   "language": "python",
   "name": "python3"
  },
  "language_info": {
   "codemirror_mode": {
    "name": "ipython",
    "version": 3
   },
   "file_extension": ".py",
   "mimetype": "text/x-python",
   "name": "python",
   "nbconvert_exporter": "python",
   "pygments_lexer": "ipython3",
   "version": "3.9.13"
  }
 },
 "nbformat": 4,
 "nbformat_minor": 5
}
