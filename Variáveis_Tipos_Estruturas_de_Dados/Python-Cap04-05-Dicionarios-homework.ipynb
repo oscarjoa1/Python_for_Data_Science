{
 "cells": [
  {
   "cell_type": "markdown",
   "id": "b4a59ffe",
   "metadata": {},
   "source": [
    "# <font color = \"blue\"> Estruturas de Dados (Dicionários) </font>"
   ]
  },
  {
   "cell_type": "code",
   "execution_count": 1,
   "id": "caff1d95",
   "metadata": {},
   "outputs": [
    {
     "name": "stdout",
     "output_type": "stream",
     "text": [
      "A versão de Python é 3.9.13\n"
     ]
    }
   ],
   "source": [
    "# versão da linguagem Python\n",
    "from platform import python_version\n",
    "print(\"A versão de Python é\", python_version())"
   ]
  },
  {
   "cell_type": "code",
   "execution_count": 36,
   "id": "ee6836b2",
   "metadata": {},
   "outputs": [
    {
     "data": {
      "text/plain": [
       "['Oscar', 29, 'Regina', 26, 'Leonardo', 26, 'Luis', 24]"
      ]
     },
     "execution_count": 36,
     "metadata": {},
     "output_type": "execute_result"
    }
   ],
   "source": [
    "# criar lista \n",
    "estudantes = [\"Oscar\", 29, \"Regina\", 26, \"Leonardo\", 26, \"Luis\", 24]\n",
    "estudantes"
   ]
  },
  {
   "cell_type": "code",
   "execution_count": 37,
   "id": "e1857dc7",
   "metadata": {},
   "outputs": [
    {
     "data": {
      "text/plain": [
       "list"
      ]
     },
     "execution_count": 37,
     "metadata": {},
     "output_type": "execute_result"
    }
   ],
   "source": [
    "# tipo de 'estudantes'\n",
    "type(estudantes)"
   ]
  },
  {
   "cell_type": "code",
   "execution_count": 44,
   "id": "0e96b0ba",
   "metadata": {},
   "outputs": [
    {
     "name": "stdout",
     "output_type": "stream",
     "text": [
      "{'Oscar': 29, 'Regina': 26, 'Leonardo': 26, 'Luis': 24}\n"
     ]
    }
   ],
   "source": [
    "# criar dicionário\n",
    "estudantes = {\"Oscar\":29, \"Regina\":26, \"Leonardo\":26, \"Luis\":24}\n",
    "print(estudantes)"
   ]
  },
  {
   "cell_type": "code",
   "execution_count": 45,
   "id": "1afe5b25",
   "metadata": {},
   "outputs": [
    {
     "data": {
      "text/plain": [
       "dict"
      ]
     },
     "execution_count": 45,
     "metadata": {},
     "output_type": "execute_result"
    }
   ],
   "source": [
    "# tipo de 'estudante'\n",
    "type(estudantes)"
   ]
  },
  {
   "cell_type": "code",
   "execution_count": 9,
   "id": "25cec334",
   "metadata": {},
   "outputs": [
    {
     "data": {
      "text/plain": [
       "26"
      ]
     },
     "execution_count": 9,
     "metadata": {},
     "output_type": "execute_result"
    }
   ],
   "source": [
    "# extraer idade de um elemento\n",
    "estudantes[\"Leonardo\"]"
   ]
  },
  {
   "cell_type": "code",
   "execution_count": 10,
   "id": "7909972b",
   "metadata": {},
   "outputs": [],
   "source": [
    "# adicionar um elemento\n",
    "estudantes[\"Adi\"] = 28\n",
    "estudantes"
   ]
  },
  {
   "cell_type": "code",
   "execution_count": 19,
   "id": "87697ad0",
   "metadata": {},
   "outputs": [
    {
     "data": {
      "text/plain": [
       "[]"
      ]
     },
     "execution_count": 19,
     "metadata": {},
     "output_type": "execute_result"
    }
   ],
   "source": [
    "# limpar elementos de dicionario\n",
    "estudantes.clear()\n",
    "estudantes"
   ]
  },
  {
   "cell_type": "code",
   "execution_count": 20,
   "id": "615b78aa",
   "metadata": {},
   "outputs": [],
   "source": [
    "# apagar variável da memória\n",
    "del estudantes"
   ]
  },
  {
   "cell_type": "code",
   "execution_count": 22,
   "id": "50ef23f1",
   "metadata": {
    "scrolled": true
   },
   "outputs": [
    {
     "data": {
      "text/plain": [
       "8"
      ]
     },
     "execution_count": 22,
     "metadata": {},
     "output_type": "execute_result"
    }
   ],
   "source": [
    "# criar lista\n",
    "estudantes = [\"Oscar\", 29, \"Regina\", 26, \"Leonardo\", 26, \"Luis\", 24]\n",
    "len(estudantes)"
   ]
  },
  {
   "cell_type": "code",
   "execution_count": 46,
   "id": "423f67d3",
   "metadata": {},
   "outputs": [
    {
     "data": {
      "text/plain": [
       "{'Camila': 29, 'Vanez': 26, 'Dayelis': 26, 'Aneth': 24}"
      ]
     },
     "execution_count": 46,
     "metadata": {},
     "output_type": "execute_result"
    }
   ],
   "source": [
    "# criar dicionário\n",
    "estudantes2 = {\"Camila\": 29, \"Vanez\": 26, \"Dayelis\": 26, \"Aneth\": 24}\n",
    "estudantes2"
   ]
  },
  {
   "cell_type": "code",
   "execution_count": 32,
   "id": "2a5bbba5",
   "metadata": {},
   "outputs": [
    {
     "data": {
      "text/plain": [
       "4"
      ]
     },
     "execution_count": 32,
     "metadata": {},
     "output_type": "execute_result"
    }
   ],
   "source": [
    "# cumprimento de dicionario\n",
    "len(estudantes2)"
   ]
  },
  {
   "cell_type": "code",
   "execution_count": 33,
   "id": "40f3f69d",
   "metadata": {},
   "outputs": [
    {
     "data": {
      "text/plain": [
       "dict_keys(['Camila', 'Vanez', 'Dayelis', 'Aneth'])"
      ]
     },
     "execution_count": 33,
     "metadata": {},
     "output_type": "execute_result"
    }
   ],
   "source": [
    "# retornar chaver\n",
    "estudantes2.keys()"
   ]
  },
  {
   "cell_type": "code",
   "execution_count": 34,
   "id": "eb7cfafa",
   "metadata": {},
   "outputs": [
    {
     "data": {
      "text/plain": [
       "dict_values([29, 26, 26, 24])"
      ]
     },
     "execution_count": 34,
     "metadata": {},
     "output_type": "execute_result"
    }
   ],
   "source": [
    "# retornar valoroes\n",
    "estudantes2.values()"
   ]
  },
  {
   "cell_type": "code",
   "execution_count": 35,
   "id": "84f3a5d9",
   "metadata": {},
   "outputs": [
    {
     "data": {
      "text/plain": [
       "dict_items([('Camila', 29), ('Vanez', 26), ('Dayelis', 26), ('Aneth', 24)])"
      ]
     },
     "execution_count": 35,
     "metadata": {},
     "output_type": "execute_result"
    }
   ],
   "source": [
    "# retornar items\n",
    "estudantes2.items()"
   ]
  },
  {
   "cell_type": "code",
   "execution_count": 47,
   "id": "12a4cb8d",
   "metadata": {},
   "outputs": [
    {
     "data": {
      "text/plain": [
       "{'Oscar': 29,\n",
       " 'Regina': 26,\n",
       " 'Leonardo': 26,\n",
       " 'Luis': 24,\n",
       " 'Camila': 29,\n",
       " 'Vanez': 26,\n",
       " 'Dayelis': 26,\n",
       " 'Aneth': 24}"
      ]
     },
     "execution_count": 47,
     "metadata": {},
     "output_type": "execute_result"
    }
   ],
   "source": [
    "estudantes.update(estudantes2)\n",
    "estudantes"
   ]
  },
  {
   "cell_type": "code",
   "execution_count": 48,
   "id": "f29250cf",
   "metadata": {},
   "outputs": [],
   "source": [
    "# dicionário vazio\n",
    "estudantes3 ={}"
   ]
  },
  {
   "cell_type": "code",
   "execution_count": 51,
   "id": "9cbf0495",
   "metadata": {},
   "outputs": [
    {
     "data": {
      "text/plain": [
       "{'Ayala': 10}"
      ]
     },
     "execution_count": 51,
     "metadata": {},
     "output_type": "execute_result"
    }
   ],
   "source": [
    "# adicionar elemento\n",
    "estudantes3[\"Ayala\"] = 10\n",
    "estudantes3"
   ]
  },
  {
   "cell_type": "code",
   "execution_count": 52,
   "id": "cca959ff",
   "metadata": {},
   "outputs": [
    {
     "data": {
      "text/plain": [
       "{'Ayala': 10, '10': 3}"
      ]
     },
     "execution_count": 52,
     "metadata": {},
     "output_type": "execute_result"
    }
   ],
   "source": [
    "# adicionar mais um elemnto\n",
    "estudantes3[\"10\"] = 3\n",
    "estudantes3"
   ]
  },
  {
   "cell_type": "code",
   "execution_count": 55,
   "id": "bbec3f31",
   "metadata": {},
   "outputs": [
    {
     "data": {
      "text/plain": [
       "{'Ayala': 10, '10': 3, 'chave': 30}"
      ]
     },
     "execution_count": 55,
     "metadata": {},
     "output_type": "execute_result"
    }
   ],
   "source": [
    "# adicionar mais um elemento\n",
    "estudantes3[\"chave\"] = 30\n",
    "estudantes3\n"
   ]
  },
  {
   "cell_type": "markdown",
   "id": "a37ff2f4",
   "metadata": {},
   "source": [
    "## Fim\n",
    "## Muito Obrigado! "
   ]
  }
 ],
 "metadata": {
  "kernelspec": {
   "display_name": "Python 3 (ipykernel)",
   "language": "python",
   "name": "python3"
  },
  "language_info": {
   "codemirror_mode": {
    "name": "ipython",
    "version": 3
   },
   "file_extension": ".py",
   "mimetype": "text/x-python",
   "name": "python",
   "nbconvert_exporter": "python",
   "pygments_lexer": "ipython3",
   "version": "3.9.13"
  }
 },
 "nbformat": 4,
 "nbformat_minor": 5
}
