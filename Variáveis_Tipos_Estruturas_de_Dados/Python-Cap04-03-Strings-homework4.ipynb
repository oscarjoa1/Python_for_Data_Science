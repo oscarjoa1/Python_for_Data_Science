{
 "cells": [
  {
   "cell_type": "markdown",
   "id": "43d798de",
   "metadata": {},
   "source": [
    "# <font color = \"blue\"> Capítulo 4 - Strings e Indexação </font>"
   ]
  },
  {
   "cell_type": "code",
   "execution_count": 1,
   "id": "8cf41964",
   "metadata": {},
   "outputs": [
    {
     "name": "stdout",
     "output_type": "stream",
     "text": [
      "A versão da linguagem Python é: 3.9.13\n"
     ]
    }
   ],
   "source": [
    "# versão da linguagem Python\n",
    "from platform import python_version\n",
    "print(\"A versão da linguagem Python é:\", python_version())"
   ]
  },
  {
   "cell_type": "markdown",
   "id": "48351bce",
   "metadata": {},
   "source": [
    "## Criando String"
   ]
  },
  {
   "cell_type": "code",
   "execution_count": 2,
   "id": "544c9fe7",
   "metadata": {},
   "outputs": [
    {
     "data": {
      "text/plain": [
       "'Olá'"
      ]
     },
     "execution_count": 2,
     "metadata": {},
     "output_type": "execute_result"
    }
   ],
   "source": [
    "'Olá'"
   ]
  },
  {
   "cell_type": "code",
   "execution_count": 3,
   "id": "4e66fbbf",
   "metadata": {},
   "outputs": [
    {
     "data": {
      "text/plain": [
       "'Se podem usar aspas simples e duplas para criar string'"
      ]
     },
     "execution_count": 3,
     "metadata": {},
     "output_type": "execute_result"
    }
   ],
   "source": [
    "\"Se podem usar aspas simples e duplas para criar string\""
   ]
  },
  {
   "cell_type": "code",
   "execution_count": 4,
   "id": "695a6794",
   "metadata": {},
   "outputs": [
    {
     "data": {
      "text/plain": [
       "\"Olha esta palavra em aspas simples 'Python'\""
      ]
     },
     "execution_count": 4,
     "metadata": {},
     "output_type": "execute_result"
    }
   ],
   "source": [
    "\"Olha esta palavra em aspas simples 'Python'\""
   ]
  },
  {
   "cell_type": "markdown",
   "id": "eb396280",
   "metadata": {},
   "source": [
    "## Imprimer String"
   ]
  },
  {
   "cell_type": "code",
   "execution_count": 5,
   "id": "c94598f6",
   "metadata": {},
   "outputs": [
    {
     "name": "stdout",
     "output_type": "stream",
     "text": [
      "Um bom exemplo\n"
     ]
    }
   ],
   "source": [
    "print(\"Um bom exemplo\")"
   ]
  },
  {
   "cell_type": "code",
   "execution_count": 15,
   "id": "4a7480c1",
   "metadata": {},
   "outputs": [
    {
     "name": "stdout",
     "output_type": "stream",
     "text": [
      "Primeiro...\n",
      "Segundo...\n",
      "Terceiro ...\n"
     ]
    }
   ],
   "source": [
    "# imprimer apenas enter\n",
    "print(\"Primeiro...\\nSegundo...\\nTerceiro ...\")"
   ]
  },
  {
   "cell_type": "code",
   "execution_count": 16,
   "id": "78459c9d",
   "metadata": {},
   "outputs": [
    {
     "name": "stdout",
     "output_type": "stream",
     "text": [
      "Primeiro... \n",
      " Segundo... \n",
      " Terceiro ...\n"
     ]
    }
   ],
   "source": [
    "# imprime espaços e enter\n",
    "print(\"Primeiro... \\n Segundo... \\n Terceiro ...\")"
   ]
  },
  {
   "cell_type": "markdown",
   "id": "c27c0150",
   "metadata": {},
   "source": [
    "## Indexação"
   ]
  },
  {
   "cell_type": "code",
   "execution_count": 17,
   "id": "b4ba581f",
   "metadata": {},
   "outputs": [
    {
     "name": "stdout",
     "output_type": "stream",
     "text": [
      "Data Science Adacamic\n"
     ]
    }
   ],
   "source": [
    "dsa = \"Data Science Adacamic\"\n",
    "print(dsa)"
   ]
  },
  {
   "cell_type": "code",
   "execution_count": 21,
   "id": "f9f413ac",
   "metadata": {},
   "outputs": [
    {
     "data": {
      "text/plain": [
       "'D'"
      ]
     },
     "execution_count": 21,
     "metadata": {},
     "output_type": "execute_result"
    }
   ],
   "source": [
    "# primeiro character\n",
    "dsa[0]"
   ]
  },
  {
   "cell_type": "code",
   "execution_count": 31,
   "id": "98fa20ff",
   "metadata": {},
   "outputs": [
    {
     "data": {
      "text/plain": [
       "'a'"
      ]
     },
     "execution_count": 31,
     "metadata": {},
     "output_type": "execute_result"
    }
   ],
   "source": [
    "# segundo character\n",
    "dsa[1]"
   ]
  },
  {
   "cell_type": "markdown",
   "id": "d4f55864",
   "metadata": {},
   "source": [
    "## Funções Built-in de String"
   ]
  },
  {
   "cell_type": "code",
   "execution_count": 33,
   "id": "f5962422",
   "metadata": {},
   "outputs": [
    {
     "data": {
      "text/plain": [
       "'DATA SCIENCE ADACAMIC'"
      ]
     },
     "execution_count": 33,
     "metadata": {},
     "output_type": "execute_result"
    }
   ],
   "source": [
    "# upper case\n",
    "dsa.upper()"
   ]
  },
  {
   "cell_type": "code",
   "execution_count": 37,
   "id": "cf6f4e38",
   "metadata": {},
   "outputs": [
    {
     "data": {
      "text/plain": [
       "'data science adacamic'"
      ]
     },
     "execution_count": 37,
     "metadata": {},
     "output_type": "execute_result"
    }
   ],
   "source": [
    "# lower case\n",
    "dsa.lower()"
   ]
  },
  {
   "cell_type": "code",
   "execution_count": 38,
   "id": "6cbf5ce0",
   "metadata": {},
   "outputs": [
    {
     "data": {
      "text/plain": [
       "['Data', 'Science', 'Adacamic']"
      ]
     },
     "execution_count": 38,
     "metadata": {},
     "output_type": "execute_result"
    }
   ],
   "source": [
    "# split case\n",
    "dsa.split()"
   ]
  },
  {
   "cell_type": "code",
   "execution_count": 42,
   "id": "e9ecc66f",
   "metadata": {},
   "outputs": [
    {
     "data": {
      "text/plain": [
       "['D', 't', ' Science Ad', 'c', 'mic']"
      ]
     },
     "execution_count": 42,
     "metadata": {},
     "output_type": "execute_result"
    }
   ],
   "source": [
    "# split case\n",
    "dsa.split('a')"
   ]
  },
  {
   "cell_type": "markdown",
   "id": "b991da1d",
   "metadata": {},
   "source": [
    "## Funções String"
   ]
  },
  {
   "cell_type": "code",
   "execution_count": 46,
   "id": "0f4aa563",
   "metadata": {},
   "outputs": [
    {
     "name": "stdout",
     "output_type": "stream",
     "text": [
      "Seja bem-vindo ao universo da Linguagem Pyhton\n"
     ]
    }
   ],
   "source": [
    "s = \"Seja bem-vindo ao universo da Linguagem Pyhton\"\n",
    "print(s)"
   ]
  },
  {
   "cell_type": "code",
   "execution_count": 47,
   "id": "c93da5b3",
   "metadata": {},
   "outputs": [
    {
     "data": {
      "text/plain": [
       "'Seja bem-vindo ao universo da linguagem pyhton'"
      ]
     },
     "execution_count": 47,
     "metadata": {},
     "output_type": "execute_result"
    }
   ],
   "source": [
    "# apenas a primeira letra como maiúscula\n",
    "s.capitalize()"
   ]
  },
  {
   "cell_type": "code",
   "execution_count": 48,
   "id": "695c6b40",
   "metadata": {},
   "outputs": [
    {
     "data": {
      "text/plain": [
       "4"
      ]
     },
     "execution_count": 48,
     "metadata": {},
     "output_type": "execute_result"
    }
   ],
   "source": [
    "# contar número de vezes um carater\n",
    "s.count(\"a\")"
   ]
  },
  {
   "cell_type": "code",
   "execution_count": 50,
   "id": "fec654d5",
   "metadata": {},
   "outputs": [
    {
     "data": {
      "text/plain": [
       "False"
      ]
     },
     "execution_count": 50,
     "metadata": {},
     "output_type": "execute_result"
    }
   ],
   "source": [
    "# se o string contem apenas número e letras\n",
    "s.isalnum()"
   ]
  },
  {
   "cell_type": "code",
   "execution_count": 51,
   "id": "23f75b04",
   "metadata": {},
   "outputs": [
    {
     "data": {
      "text/plain": [
       "False"
      ]
     },
     "execution_count": 51,
     "metadata": {},
     "output_type": "execute_result"
    }
   ],
   "source": [
    "# se a string é minúsculo\n",
    "s.islower()"
   ]
  },
  {
   "cell_type": "code",
   "execution_count": 53,
   "id": "5b9b5088",
   "metadata": {},
   "outputs": [
    {
     "data": {
      "text/plain": [
       "False"
      ]
     },
     "execution_count": 53,
     "metadata": {},
     "output_type": "execute_result"
    }
   ],
   "source": [
    "# se a string é toda maiúscula\n",
    "s.isupper()\n"
   ]
  },
  {
   "cell_type": "code",
   "execution_count": 54,
   "id": "7bfeb82f",
   "metadata": {},
   "outputs": [
    {
     "data": {
      "text/plain": [
       "False"
      ]
     },
     "execution_count": 54,
     "metadata": {},
     "output_type": "execute_result"
    }
   ],
   "source": [
    "# se a string é espaço\n",
    "s.isspace()"
   ]
  },
  {
   "cell_type": "code",
   "execution_count": 56,
   "id": "b7a0e9e2",
   "metadata": {},
   "outputs": [
    {
     "data": {
      "text/plain": [
       "False"
      ]
     },
     "execution_count": 56,
     "metadata": {},
     "output_type": "execute_result"
    }
   ],
   "source": [
    "# se a sting finaliza com 0\n",
    "s.endswith(\"0\")"
   ]
  },
  {
   "cell_type": "markdown",
   "id": "e89bd4e7",
   "metadata": {},
   "source": [
    "## Comparação de String"
   ]
  },
  {
   "cell_type": "code",
   "execution_count": 57,
   "id": "88ab1197",
   "metadata": {},
   "outputs": [
    {
     "data": {
      "text/plain": [
       "False"
      ]
     },
     "execution_count": 57,
     "metadata": {},
     "output_type": "execute_result"
    }
   ],
   "source": [
    "\"Python\" == \"R\""
   ]
  },
  {
   "cell_type": "code",
   "execution_count": 59,
   "id": "a3845f88",
   "metadata": {},
   "outputs": [
    {
     "data": {
      "text/plain": [
       "True"
      ]
     },
     "execution_count": 59,
     "metadata": {},
     "output_type": "execute_result"
    }
   ],
   "source": [
    "\"Python\" == \"Python\""
   ]
  },
  {
   "cell_type": "markdown",
   "id": "ee7aa64b",
   "metadata": {},
   "source": [
    "## Fim\n",
    "\n",
    "### Muito Obrigado!"
   ]
  },
  {
   "cell_type": "code",
   "execution_count": null,
   "id": "b4d1a737",
   "metadata": {},
   "outputs": [],
   "source": []
  }
 ],
 "metadata": {
  "kernelspec": {
   "display_name": "Python 3 (ipykernel)",
   "language": "python",
   "name": "python3"
  },
  "language_info": {
   "codemirror_mode": {
    "name": "ipython",
    "version": 3
   },
   "file_extension": ".py",
   "mimetype": "text/x-python",
   "name": "python",
   "nbconvert_exporter": "python",
   "pygments_lexer": "ipython3",
   "version": "3.9.13"
  }
 },
 "nbformat": 4,
 "nbformat_minor": 5
}
