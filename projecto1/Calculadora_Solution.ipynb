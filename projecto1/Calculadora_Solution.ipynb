{
 "cells": [
  {
   "cell_type": "markdown",
   "id": "beb5326f",
   "metadata": {},
   "source": [
    "# <font color = \"blue\"> Calculadora Simples </font>"
   ]
  },
  {
   "cell_type": "code",
   "execution_count": 1,
   "id": "48f57cba",
   "metadata": {},
   "outputs": [
    {
     "name": "stdout",
     "output_type": "stream",
     "text": [
      "Versão de Python 3.9.13\n"
     ]
    }
   ],
   "source": [
    "# Versão da linguaguem Python\n",
    "from platform import python_version\n",
    "print(\"Versão de Python\", python_version())"
   ]
  },
  {
   "cell_type": "markdown",
   "id": "a98609bb",
   "metadata": {},
   "source": [
    "## Programa"
   ]
  },
  {
   "cell_type": "code",
   "execution_count": 11,
   "id": "958ebd16",
   "metadata": {},
   "outputs": [
    {
     "name": "stdout",
     "output_type": "stream",
     "text": [
      "Selecione (1) para soma, (2) substração, (3) multiplicação ou (4) divisão: 4\n",
      "ensira o primeiro número: 10\n",
      "ensira o segundo número: 2\n",
      "Resultado: 5.000000\n"
     ]
    }
   ],
   "source": [
    "# forneça a operação a realizar\n",
    "entrada = int(input(\"Selecione (1) para soma, (2) substração, (3) multiplicação ou (4) divisão: \"))\n",
    "\n",
    "# ensira os números\n",
    "num1 = float(input(\"ensira o primeiro número: \"))\n",
    "num2 = float(input(\"ensira o segundo número: \"))\n",
    "\n",
    "# claúsula\n",
    "if (entrada == 1):\n",
    "    result = num1 + num2\n",
    "    print(\"Resultado: %f\" %(result))\n",
    "elif(entrada == 2):\n",
    "    result = num1 - num2\n",
    "    print(\"Resultado: %f\" %(result))    \n",
    "elif(entrada == 3):\n",
    "    result = num1 * num2\n",
    "    print(\"Resultado: %f\" %(result)) \n",
    "elif(entrada == 4):\n",
    "    result = num1 / num2\n",
    "    print(\"Resultado: %f\" %(result)) "
   ]
  }
 ],
 "metadata": {
  "kernelspec": {
   "display_name": "Python 3 (ipykernel)",
   "language": "python",
   "name": "python3"
  },
  "language_info": {
   "codemirror_mode": {
    "name": "ipython",
    "version": 3
   },
   "file_extension": ".py",
   "mimetype": "text/x-python",
   "name": "python",
   "nbconvert_exporter": "python",
   "pygments_lexer": "ipython3",
   "version": "3.9.13"
  }
 },
 "nbformat": 4,
 "nbformat_minor": 5
}
