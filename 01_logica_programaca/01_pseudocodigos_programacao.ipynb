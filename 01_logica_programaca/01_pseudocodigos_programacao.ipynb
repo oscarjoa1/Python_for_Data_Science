{
 "cells": [
  {
   "cell_type": "markdown",
   "id": "2fb89db5",
   "metadata": {},
   "source": [
    "# <font color = \"blue\"> Área de um Palalelograma</font> "
   ]
  },
  {
   "cell_type": "markdown",
   "id": "be889a92",
   "metadata": {},
   "source": [
    "## Pseudocódigo"
   ]
  },
  {
   "cell_type": "markdown",
   "id": "0ddf9dec",
   "metadata": {},
   "source": [
    "Crie os passos que permitem que um usuário obter a área de um paralelogramo:\n",
    "\n",
    "Inicio\n",
    "\n",
    "    1. Envie a mensagem \"Seja bem-vindo(a)\" ao usuário(a)\n",
    "    2. Crie a variável altura\n",
    "    3. Solicite e guarde a altura do paralelograma\n",
    "    4. Crie a variável base \n",
    "    5. Solicite e guarde a base do paralelograma\n",
    "    6. Crie a variável área\n",
    "    7. Multiplique a base pela altura e guarde da variável área\n",
    "    8. imprima a área\n",
    "           \n",
    "Fim\n",
    "\n"
   ]
  },
  {
   "cell_type": "markdown",
   "id": "05f86357",
   "metadata": {},
   "source": [
    "## Aplicação do psedocódigo em linguagem Python"
   ]
  },
  {
   "cell_type": "code",
   "execution_count": 1,
   "id": "7c28104e",
   "metadata": {},
   "outputs": [
    {
     "name": "stdout",
     "output_type": "stream",
     "text": [
      "Seja bem-vindo ou bem-vinda\n"
     ]
    }
   ],
   "source": [
    "print(\"Seja bem-vindo ou bem-vinda\")"
   ]
  },
  {
   "cell_type": "code",
   "execution_count": 2,
   "id": "478d4ed5",
   "metadata": {},
   "outputs": [
    {
     "name": "stdout",
     "output_type": "stream",
     "text": [
      "digite a altura do paralelograma:10\n"
     ]
    }
   ],
   "source": [
    "h = float(input(\"digite a altura do paralelograma:\"))"
   ]
  },
  {
   "cell_type": "code",
   "execution_count": 3,
   "id": "ee2cac66",
   "metadata": {},
   "outputs": [
    {
     "name": "stdout",
     "output_type": "stream",
     "text": [
      "digite a base do paraleligrama:5\n"
     ]
    }
   ],
   "source": [
    "b = float(input(\"digite a base do paraleligrama:\"))"
   ]
  },
  {
   "cell_type": "code",
   "execution_count": 4,
   "id": "bdb1cff7",
   "metadata": {},
   "outputs": [],
   "source": [
    "a = b * h"
   ]
  },
  {
   "cell_type": "code",
   "execution_count": 5,
   "id": "37f748f4",
   "metadata": {},
   "outputs": [
    {
     "name": "stdout",
     "output_type": "stream",
     "text": [
      "50.0\n"
     ]
    }
   ],
   "source": [
    "print(a)"
   ]
  },
  {
   "cell_type": "markdown",
   "id": "24e4e021",
   "metadata": {},
   "source": [
    "# <font color = \"blue\"> Calculadora simples </font>"
   ]
  },
  {
   "cell_type": "markdown",
   "id": "e5760a93",
   "metadata": {},
   "source": [
    "# Pseudocódigo"
   ]
  },
  {
   "cell_type": "markdown",
   "id": "ccd0eaf8",
   "metadata": {},
   "source": [
    "Inicio\n",
    "\n",
    "    1. Imprima a mensagem: \"Seja bem-vindo (a) a sua calculadora simples\".\n",
    "    2. Crie a variável 'operType'.\n",
    "    3. Solicite e armazene o tipo de operação a ser realizada: *, +, /, // ou %.\n",
    "    4. Crie a variável 'num1'.\n",
    "    5. Solicite e armazene o primeiro número.\n",
    "    6. Crie a variável 'num2'.\n",
    "    7. Solicite e armazene o segundo número.\n",
    "    8. Crie a variáve 'result' \n",
    "    9. Faça a operação e amazena o resultado em 'result'\n",
    "    10. Imprima o resultado\n",
    "    \n",
    "Fim\n",
    "\n"
   ]
  },
  {
   "cell_type": "code",
   "execution_count": null,
   "id": "3652d636",
   "metadata": {},
   "outputs": [],
   "source": []
  }
 ],
 "metadata": {
  "kernelspec": {
   "display_name": "Python 3 (ipykernel)",
   "language": "python",
   "name": "python3"
  },
  "language_info": {
   "codemirror_mode": {
    "name": "ipython",
    "version": 3
   },
   "file_extension": ".py",
   "mimetype": "text/x-python",
   "name": "python",
   "nbconvert_exporter": "python",
   "pygments_lexer": "ipython3",
   "version": "3.9.13"
  }
 },
 "nbformat": 4,
 "nbformat_minor": 5
}
