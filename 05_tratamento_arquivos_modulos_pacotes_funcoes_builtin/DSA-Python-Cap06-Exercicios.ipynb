{
 "cells": [
  {
   "cell_type": "markdown",
   "metadata": {},
   "source": [
    "# <font color='blue'>Data Science Academy</font>\n",
    "\n",
    "## <font color='blue'>Fundamentos de Linguagem Python Para Análise de Dados e Data Science</font>\n",
    "\n",
    "## <font color='blue'>Capítulo 6 - Exercícios</font>"
   ]
  },
  {
   "cell_type": "code",
   "execution_count": 1,
   "metadata": {},
   "outputs": [
    {
     "name": "stdout",
     "output_type": "stream",
     "text": [
      "Versão da Linguagem Python Usada Neste Jupyter Notebook: 3.9.13\n"
     ]
    }
   ],
   "source": [
    "# Versão da Linguagem Python\n",
    "from platform import python_version\n",
    "print('Versão da Linguagem Python Usada Neste Jupyter Notebook:', python_version())"
   ]
  },
  {
   "cell_type": "markdown",
   "metadata": {},
   "source": [
    "## Exercícios "
   ]
  },
  {
   "cell_type": "code",
   "execution_count": 2,
   "metadata": {},
   "outputs": [
    {
     "name": "stdout",
     "output_type": "stream",
     "text": [
      "A terceira potência de 1 é 1\n",
      "A terceira potência de 2 é 8\n",
      "A terceira potência de 3 é 27\n"
     ]
    }
   ],
   "source": [
    "# Exercício 1 - Crie uma lista de 3 elementos e calcule a terceira potência de cada elemento.\n",
    "\n",
    "# solucao\n",
    "lista = [1, 2, 3]\n",
    "for num in lista:\n",
    "    print(\"A terceira potência de %d é %d\" %(num, pow(num, 3))) \n",
    "\n",
    "\n"
   ]
  },
  {
   "cell_type": "code",
   "execution_count": 3,
   "metadata": {},
   "outputs": [
    {
     "name": "stdout",
     "output_type": "stream",
     "text": [
      "['A', 'a', 1]\n",
      "['DATA', 'data', 4]\n",
      "['SCIENCE', 'science', 7]\n",
      "['ACADEMY', 'academy', 7]\n",
      "['OFERCE', 'oferce', 6]\n",
      "['OS', 'os', 2]\n",
      "['MELHORES', 'melhores', 8]\n",
      "['CURSOS', 'cursos', 6]\n",
      "['DE', 'de', 2]\n",
      "['ANÁLISE', 'análise', 7]\n",
      "['DE', 'de', 2]\n",
      "['DADOS', 'dados', 5]\n",
      "['DO', 'do', 2]\n",
      "['BRASIL.', 'brasil.', 7]\n"
     ]
    }
   ],
   "source": [
    "# Exercício 2 - Reescreva o código abaixo, usando a função map(). O resultado final deve ser o mesmo!\n",
    "\n",
    "palavras = 'A Data Science Academy oferce os melhores cursos de análise de dados do Brasil.'.split()\n",
    "resultado = [[w.upper(), w.lower(), len(w)] for w in palavras]\n",
    "for i in resultado:\n",
    "    print (i)"
   ]
  },
  {
   "cell_type": "code",
   "execution_count": 4,
   "metadata": {},
   "outputs": [
    {
     "data": {
      "text/plain": [
       "[['A', 'a', 1],\n",
       " ['DATA', 'data', 4],\n",
       " ['SCIENCE', 'science', 7],\n",
       " ['ACADEMY', 'academy', 7],\n",
       " ['OFERCE', 'oferce', 6],\n",
       " ['OS', 'os', 2],\n",
       " ['MELHORES', 'melhores', 8],\n",
       " ['CURSOS', 'cursos', 6],\n",
       " ['DE', 'de', 2],\n",
       " ['ANÁLISE', 'análise', 7],\n",
       " ['DE', 'de', 2],\n",
       " ['DADOS', 'dados', 5],\n",
       " ['DO', 'do', 2],\n",
       " ['BRASIL.', 'brasil.', 7]]"
      ]
     },
     "execution_count": 4,
     "metadata": {},
     "output_type": "execute_result"
    }
   ],
   "source": [
    "# Solução\n",
    "\n",
    "# forma 01: funcao\n",
    "palavras = 'A Data Science Academy oferce os melhores cursos de análise de dados do Brasil.'.split()\n",
    "\n",
    "def function1(string):\n",
    "    resultado = [string.upper(), string.lower(), len(string)]\n",
    "    return(resultado)\n",
    "\n",
    "list(map(function1, palavras))\n",
    "\n",
    "# forma 02: funcao anônima\n",
    "\n",
    "list(map(lambda string: [string.upper(), string.lower(), len(string)], palavras))\n"
   ]
  },
  {
   "cell_type": "code",
   "execution_count": 5,
   "metadata": {},
   "outputs": [],
   "source": [
    "# Exercício 3 - Calcule a matriz transposta da matriz abaixo.\n",
    "# Caso não saiba o que é matriz transposta, visite este link: https://pt.wikipedia.org/wiki/Matriz_transposta\n",
    "# Matriz transposta é um conceito fundamental na construção de redes neurais artificiais, base de sistemas de IA.\n",
    "matrix = [[1, 2],[3, 4],[5, 6],[7, 8]]\n"
   ]
  },
  {
   "cell_type": "code",
   "execution_count": 25,
   "metadata": {},
   "outputs": [
    {
     "data": {
      "text/plain": [
       "[(1, 3, 5, 7), (2, 4, 6, 8)]"
      ]
     },
     "execution_count": 25,
     "metadata": {},
     "output_type": "execute_result"
    }
   ],
   "source": [
    "# Solução\n",
    "\n",
    "# matrix \n",
    "matriz = [[1, 2], \n",
    "          [3, 4], \n",
    "          [5, 6], \n",
    "          [7, 8]]\n",
    "\n",
    "# descompactacao\n",
    "list(zip(*matriz))"
   ]
  },
  {
   "cell_type": "code",
   "execution_count": 6,
   "metadata": {},
   "outputs": [],
   "source": [
    "# Exercício 4 - Crie duas funções, uma para elevar um número ao quadrado e outra para elevar ao cubo. \n",
    "# Aplique as duas funções aos elementos da lista abaixo. \n",
    "# Obs: as duas funções devem ser aplicadas simultaneamente.\n",
    "lista = [0, 1, 2, 3, 4]\n"
   ]
  },
  {
   "cell_type": "code",
   "execution_count": 36,
   "metadata": {},
   "outputs": [
    {
     "data": {
      "text/plain": [
       "[(0, 0), (1, 1), (4, 8), (9, 27), (16, 64)]"
      ]
     },
     "execution_count": 36,
     "metadata": {},
     "output_type": "execute_result"
    }
   ],
   "source": [
    "# Solucao\n",
    "\n",
    "# funcao simultanea\n",
    "def simultaneo(x):\n",
    "    return(pow(x, 2), pow(x, 3))\n",
    "\n",
    "# aplicacao\n",
    "lista = [0, 1, 2, 3, 4]\n",
    "list(map(simultaneo, lista))\n",
    "\n",
    "\n",
    "    \n",
    "    "
   ]
  },
  {
   "cell_type": "code",
   "execution_count": 41,
   "metadata": {},
   "outputs": [
    {
     "name": "stdout",
     "output_type": "stream",
     "text": [
      "1024\n",
      "177147\n",
      "16777216\n"
     ]
    }
   ],
   "source": [
    "# Exercício 5 - Abaixo você encontra duas listas. Faça com que cada elemento da listaA seja elevado \n",
    "# ao elemento correspondente na listaB.\n",
    "listaA = [2, 3, 4]\n",
    "listaB = [10, 11, 12]\n",
    "\n",
    "# Solução\n",
    "for comb in zip(listaA, listaB):\n",
    "    print(pow(comb[0], comb[1]))\n",
    "    \n"
   ]
  },
  {
   "cell_type": "code",
   "execution_count": 47,
   "metadata": {},
   "outputs": [
    {
     "data": {
      "text/plain": [
       "[-5, -4, -3, -2, -1]"
      ]
     },
     "execution_count": 47,
     "metadata": {},
     "output_type": "execute_result"
    }
   ],
   "source": [
    "# Exercício 6 - Considerando o range de valores abaixo, use a função filter() para retornar \n",
    "# apenas os valores negativos.\n",
    "\n",
    "# Solucao\n",
    "list(filter(lambda x: x < 0, list(range(-5, 5))))\n"
   ]
  },
  {
   "cell_type": "code",
   "execution_count": 50,
   "metadata": {},
   "outputs": [
    {
     "data": {
      "text/plain": [
       "[2, 3, 5, 7]"
      ]
     },
     "execution_count": 50,
     "metadata": {},
     "output_type": "execute_result"
    }
   ],
   "source": [
    "# Exercício 7 - Usando a função filter(), encontre os valores que são comuns às duas listas abaixo.\n",
    "a = [1,2,3,5,7,9]\n",
    "b = [2,3,5,6,7,8]\n",
    "\n",
    "# Solução\n",
    "list(filter(lambda x: x in b, a))\n"
   ]
  },
  {
   "cell_type": "code",
   "execution_count": 54,
   "metadata": {},
   "outputs": [
    {
     "data": {
      "text/plain": [
       "{'a': 4, 'b': 5}"
      ]
     },
     "execution_count": 54,
     "metadata": {},
     "output_type": "execute_result"
    }
   ],
   "source": [
    "# Exercício 8 - Considere os dois dicionários abaixo. \n",
    "# Crie um terceiro dicionário com as chaves do dicionário 1 e os valores do dicionário 2.\n",
    "dict1 = {'a':1,'b':2}\n",
    "dict2 = {'c':4,'d':5}\n",
    "\n",
    "# Solução\n",
    "dict(zip(dict1, dict2.values()))\n"
   ]
  },
  {
   "cell_type": "code",
   "execution_count": 57,
   "metadata": {},
   "outputs": [
    {
     "name": "stdout",
     "output_type": "stream",
     "text": [
      "g\n",
      "h\n"
     ]
    }
   ],
   "source": [
    "# Exercício 9 - Considere a lista abaixo e retorne apenas os elementos cujo índice for maior que 5.\n",
    "lista = ['a', 'b', 'c', 'd', 'e', 'f', 'g', 'h']\n",
    "\n",
    "# Solução\n",
    "for x, y in list(enumerate(lista)):\n",
    "    if x > 5:\n",
    "        print(y)"
   ]
  },
  {
   "cell_type": "code",
   "execution_count": 58,
   "metadata": {},
   "outputs": [
    {
     "name": "stdout",
     "output_type": "stream",
     "text": [
      "Academy\n"
     ]
    }
   ],
   "source": [
    "# Exercício 10 - Crie um regex em Python para extrair a palavra que aparece depois das palavras \n",
    "# Data e Science na frase: 'A Data Science Academy oferce os melhores cursos de análise de dados do Brasil.'\n",
    "import re\n",
    "texto = 'A Data Science Academy oferece os melhores cursos de análise de dados do Brasil.'\n",
    "regex = r\"Science (\\w+)\"\n",
    "\n",
    "match = re.search(regex, texto)\n",
    "if match:\n",
    "    palavra = match.group(1)\n",
    "    print(palavra)\n",
    "\n"
   ]
  },
  {
   "cell_type": "markdown",
   "metadata": {},
   "source": [
    "# Fim"
   ]
  },
  {
   "cell_type": "markdown",
   "metadata": {},
   "source": [
    "### Obrigado\n",
    "\n",
    "### Visite o Blog da Data Science Academy - <a href=\"http://blog.dsacademy.com.br\">Blog DSA</a>"
   ]
  }
 ],
 "metadata": {
  "kernelspec": {
   "display_name": "Python 3 (ipykernel)",
   "language": "python",
   "name": "python3"
  },
  "language_info": {
   "codemirror_mode": {
    "name": "ipython",
    "version": 3
   },
   "file_extension": ".py",
   "mimetype": "text/x-python",
   "name": "python",
   "nbconvert_exporter": "python",
   "pygments_lexer": "ipython3",
   "version": "3.9.13"
  }
 },
 "nbformat": 4,
 "nbformat_minor": 1
}
