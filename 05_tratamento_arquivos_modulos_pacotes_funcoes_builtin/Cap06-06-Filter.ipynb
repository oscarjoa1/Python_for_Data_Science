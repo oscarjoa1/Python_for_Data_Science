{
 "cells": [
  {
   "cell_type": "markdown",
   "id": "55e2b58d",
   "metadata": {},
   "source": [
    "# <font color = \"blue\"> Função Filter </font>"
   ]
  },
  {
   "cell_type": "code",
   "execution_count": 1,
   "id": "20204a7f",
   "metadata": {},
   "outputs": [
    {
     "name": "stdout",
     "output_type": "stream",
     "text": [
      "Versão de Python 3.9.13\n"
     ]
    }
   ],
   "source": [
    "# versão da linguagem python\n",
    "from platform import python_version\n",
    "print(\"Versão de Python\", python_version())"
   ]
  },
  {
   "cell_type": "code",
   "execution_count": 2,
   "id": "88d3af87",
   "metadata": {},
   "outputs": [],
   "source": [
    "# funcao de o número é par ou impar\n",
    "def vericpar (num): \n",
    "    if(num % 2 == 0): \n",
    "        return(True) \n",
    "    else: \n",
    "        return(False)"
   ]
  },
  {
   "cell_type": "code",
   "execution_count": 3,
   "id": "11dc910b",
   "metadata": {},
   "outputs": [
    {
     "name": "stdout",
     "output_type": "stream",
     "text": [
      "True\n",
      "False\n"
     ]
    }
   ],
   "source": [
    "# avaliando a funcao `vericpar`\n",
    "print(vericpar(2))\n",
    "print(vericpar(3))"
   ]
  },
  {
   "cell_type": "code",
   "execution_count": 4,
   "id": "7792c2b4",
   "metadata": {},
   "outputs": [
    {
     "name": "stdout",
     "output_type": "stream",
     "text": [
      "[1, 2, 3, 4, 5, 6, 7, 8, 9, 10, 11, 12, 13, 14, 15, 16, 17, 18]\n"
     ]
    }
   ],
   "source": [
    "# se cria uma lista de número\n",
    "lista = list(range(1, 19))\n",
    "print(lista)"
   ]
  },
  {
   "cell_type": "code",
   "execution_count": 5,
   "id": "f8f87c09",
   "metadata": {},
   "outputs": [
    {
     "data": {
      "text/plain": [
       "[2, 4, 6, 8, 10, 12, 14, 16, 18]"
      ]
     },
     "execution_count": 5,
     "metadata": {},
     "output_type": "execute_result"
    }
   ],
   "source": [
    "# uso da funcao filter\n",
    "list(filter(vericpar, lista))"
   ]
  },
  {
   "cell_type": "code",
   "execution_count": 6,
   "id": "ca14ab95",
   "metadata": {},
   "outputs": [
    {
     "data": {
      "text/plain": [
       "[2, 4, 6, 8, 10, 12, 14, 16, 18]"
      ]
     },
     "execution_count": 6,
     "metadata": {},
     "output_type": "execute_result"
    }
   ],
   "source": [
    "# com a funcao lambda e filter para pares\n",
    "list(filter(lambda x: x % 2 == 0, lista))"
   ]
  },
  {
   "cell_type": "code",
   "execution_count": 7,
   "id": "f849f74f",
   "metadata": {},
   "outputs": [
    {
     "data": {
      "text/plain": [
       "[1, 3, 5, 7, 9, 11, 13, 15, 17]"
      ]
     },
     "execution_count": 7,
     "metadata": {},
     "output_type": "execute_result"
    }
   ],
   "source": [
    "# com a funcao lambda e filter para impar\n",
    "list(filter(lambda x: x % 2 != 0, lista))"
   ]
  },
  {
   "cell_type": "code",
   "execution_count": 8,
   "id": "aa66cf64",
   "metadata": {},
   "outputs": [
    {
     "data": {
      "text/plain": [
       "[6, 7, 8, 9, 10, 11, 12, 13, 14, 15, 16, 17, 18]"
      ]
     },
     "execution_count": 8,
     "metadata": {},
     "output_type": "execute_result"
    }
   ],
   "source": [
    "# com a funcao lambda e filter para numeros maiores que 5\n",
    "list(filter(lambda x: x > 5, lista))"
   ]
  },
  {
   "cell_type": "markdown",
   "id": "12b94a16",
   "metadata": {},
   "source": [
    "## Muito Obrigado"
   ]
  }
 ],
 "metadata": {
  "kernelspec": {
   "display_name": "Python 3 (ipykernel)",
   "language": "python",
   "name": "python3"
  },
  "language_info": {
   "codemirror_mode": {
    "name": "ipython",
    "version": 3
   },
   "file_extension": ".py",
   "mimetype": "text/x-python",
   "name": "python",
   "nbconvert_exporter": "python",
   "pygments_lexer": "ipython3",
   "version": "3.9.13"
  }
 },
 "nbformat": 4,
 "nbformat_minor": 5
}
