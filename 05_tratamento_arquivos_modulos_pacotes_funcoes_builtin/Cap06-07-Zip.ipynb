{
 "cells": [
  {
   "cell_type": "markdown",
   "id": "047c8853",
   "metadata": {},
   "source": [
    "# <font color = \"blue\"> Função Zip </font>"
   ]
  },
  {
   "cell_type": "code",
   "execution_count": 1,
   "id": "eac588f7",
   "metadata": {},
   "outputs": [
    {
     "name": "stdout",
     "output_type": "stream",
     "text": [
      "Versão de Python 3.9.13\n"
     ]
    }
   ],
   "source": [
    "# Versão de linguagem Python\n",
    "from platform import python_version\n",
    "print(\"Versão de Python\", python_version())"
   ]
  },
  {
   "cell_type": "code",
   "execution_count": 2,
   "id": "92c443f1",
   "metadata": {},
   "outputs": [],
   "source": [
    "# criando duas listas\n",
    "x = [1, 2, 3]\n",
    "y = [4, 5, 1]"
   ]
  },
  {
   "cell_type": "code",
   "execution_count": 3,
   "id": "e2fa4cbf",
   "metadata": {},
   "outputs": [
    {
     "data": {
      "text/plain": [
       "[(1, 4), (2, 5), (3, 1)]"
      ]
     },
     "execution_count": 3,
     "metadata": {},
     "output_type": "execute_result"
    }
   ],
   "source": [
    "# uniendo as listas\n",
    "list(zip(x, y))"
   ]
  },
  {
   "cell_type": "markdown",
   "id": "39c0267c",
   "metadata": {},
   "source": [
    "> Cuidado quando os argumentos tem números de elementos diferentes. Não tem reciclagem como na liguagem R."
   ]
  },
  {
   "cell_type": "code",
   "execution_count": 4,
   "id": "3fc7de34",
   "metadata": {},
   "outputs": [
    {
     "data": {
      "text/plain": [
       "[('A', 'D'), ('B', 'E')]"
      ]
     },
     "execution_count": 4,
     "metadata": {},
     "output_type": "execute_result"
    }
   ],
   "source": [
    "list(zip(['A', 'B', 'C'], ['D', 'E']))"
   ]
  },
  {
   "cell_type": "code",
   "execution_count": 7,
   "id": "d5da561c",
   "metadata": {},
   "outputs": [],
   "source": [
    "# criando duas listas\n",
    "a = list(range(1, 4))\n",
    "b = list(range(1, 3))"
   ]
  },
  {
   "cell_type": "code",
   "execution_count": 8,
   "id": "a08daf24",
   "metadata": {},
   "outputs": [
    {
     "data": {
      "text/plain": [
       "[(1, 1), (2, 2)]"
      ]
     },
     "execution_count": 8,
     "metadata": {},
     "output_type": "execute_result"
    }
   ],
   "source": [
    "# aplicando funcao zip\n",
    "list(zip(a, b))"
   ]
  }
 ],
 "metadata": {
  "kernelspec": {
   "display_name": "Python 3 (ipykernel)",
   "language": "python",
   "name": "python3"
  },
  "language_info": {
   "codemirror_mode": {
    "name": "ipython",
    "version": 3
   },
   "file_extension": ".py",
   "mimetype": "text/x-python",
   "name": "python",
   "nbconvert_exporter": "python",
   "pygments_lexer": "ipython3",
   "version": "3.9.13"
  }
 },
 "nbformat": 4,
 "nbformat_minor": 5
}
