{
 "cells": [
  {
   "cell_type": "markdown",
   "id": "d6489a06",
   "metadata": {},
   "source": [
    "# <font color = \"blue\"> Introdução à Programação Orientada a Objetos"
   ]
  },
  {
   "cell_type": "code",
   "execution_count": 1,
   "id": "47fb23cb",
   "metadata": {},
   "outputs": [
    {
     "name": "stdout",
     "output_type": "stream",
     "text": [
      "Versão Python 3.9.13\n"
     ]
    }
   ],
   "source": [
    "# versão da linguagem python\n",
    "from platform import python_version\n",
    "print(\"Versão Python\", python_version())"
   ]
  },
  {
   "cell_type": "markdown",
   "id": "04e6a2a2",
   "metadata": {},
   "source": [
    "# Objetos"
   ]
  },
  {
   "cell_type": "markdown",
   "id": "7abf880b",
   "metadata": {},
   "source": [
    "Em python, tudo é objeto!"
   ]
  },
  {
   "cell_type": "code",
   "execution_count": 2,
   "id": "cfe83d93",
   "metadata": {},
   "outputs": [],
   "source": [
    "# criando uma lista \n",
    "list_num = [\"Data\", \"Science\", \"Academy\", \"Nota\", 10, 10]"
   ]
  },
  {
   "cell_type": "code",
   "execution_count": 3,
   "id": "4e92f2c0",
   "metadata": {},
   "outputs": [
    {
     "data": {
      "text/plain": [
       "list"
      ]
     },
     "execution_count": 3,
     "metadata": {},
     "output_type": "execute_result"
    }
   ],
   "source": [
    "# Tipo do objeto list_num\n",
    "type(list_num)"
   ]
  },
  {
   "cell_type": "code",
   "execution_count": 4,
   "id": "57cd8051",
   "metadata": {},
   "outputs": [
    {
     "name": "stdout",
     "output_type": "stream",
     "text": [
      "<class 'list'>\n",
      "<class 'tuple'>\n",
      "<class 'dict'>\n",
      "<class 'str'>\n",
      "<class 'int'>\n",
      "<class 'float'>\n"
     ]
    }
   ],
   "source": [
    "# O interpretador entende exclusivamente algumos represetações built-in como classes\n",
    "print(type([]))\n",
    "print(type(()))\n",
    "print(type({}))\n",
    "print(type(\"\"))\n",
    "print(type(10))\n",
    "print(type(10.0))"
   ]
  },
  {
   "cell_type": "code",
   "execution_count": 5,
   "id": "a96a394c",
   "metadata": {},
   "outputs": [
    {
     "name": "stdout",
     "output_type": "stream",
     "text": [
      "2\n",
      "None\n",
      "['Data', 'Science', 'Academy', 'Nota', 10, 10, 10]\n"
     ]
    }
   ],
   "source": [
    "# métodos e atributos de list_num\n",
    "print(list_num.count(10))\n",
    "print(list_num.append(10))\n",
    "print(list_num)"
   ]
  },
  {
   "cell_type": "code",
   "execution_count": 6,
   "id": "0fe32f5a",
   "metadata": {},
   "outputs": [],
   "source": [
    "# criando um novo tipo de objeto chamdo Carro\n",
    "class Carro(object):\n",
    "    pass\n",
    "    "
   ]
  },
  {
   "cell_type": "code",
   "execution_count": 7,
   "id": "bd199216",
   "metadata": {},
   "outputs": [],
   "source": [
    "# objeto (instância da classe)\n",
    "ferrari = Carro()"
   ]
  },
  {
   "cell_type": "code",
   "execution_count": 8,
   "id": "9c453f6d",
   "metadata": {},
   "outputs": [],
   "source": [
    "# Criando classe\n",
    "class Estudantes:\n",
    "    def __init__(self, nome, idade, nota):\n",
    "        self.nome = nome\n",
    "        self.idade = idade\n",
    "        self.nota = nota\n",
    "        "
   ]
  },
  {
   "cell_type": "code",
   "execution_count": 9,
   "id": "87157823",
   "metadata": {},
   "outputs": [],
   "source": [
    "# criando objeto\n",
    "Estutante1 = Estudantes(\"Bob\", 12, 0.5)"
   ]
  },
  {
   "cell_type": "code",
   "execution_count": 10,
   "id": "841a3173",
   "metadata": {},
   "outputs": [],
   "source": [
    "# criando classe\n",
    "class Estudantes():\n",
    "    def __init__(self, nome, idade, nota):\n",
    "        self.nome = nome\n",
    "        self.idade = idade\n",
    "        self.nota = nota"
   ]
  },
  {
   "cell_type": "code",
   "execution_count": 11,
   "id": "2f7a11df",
   "metadata": {},
   "outputs": [],
   "source": [
    "Estutante2 = Estudantes(\"Bob\", 12, 0.5)"
   ]
  },
  {
   "cell_type": "code",
   "execution_count": 12,
   "id": "4c8f8187",
   "metadata": {},
   "outputs": [
    {
     "name": "stdout",
     "output_type": "stream",
     "text": [
      "12\n",
      "Bob\n",
      "0.5\n"
     ]
    }
   ],
   "source": [
    "# atributos\n",
    "print(Estutante1.idade)\n",
    "print(Estutante1.nome)\n",
    "print(Estutante1.nota)"
   ]
  },
  {
   "cell_type": "code",
   "execution_count": 13,
   "id": "2ab57bd1",
   "metadata": {},
   "outputs": [
    {
     "name": "stdout",
     "output_type": "stream",
     "text": [
      "12\n",
      "Bob\n",
      "0.5\n"
     ]
    }
   ],
   "source": [
    "# atributos\n",
    "print(Estutante2.idade)\n",
    "print(Estutante2.nome)\n",
    "print(Estutante2.nota)"
   ]
  },
  {
   "cell_type": "code",
   "execution_count": 21,
   "id": "1aec1c6b",
   "metadata": {},
   "outputs": [],
   "source": [
    "# criando uma classe\n",
    "class funcionario():\n",
    "    def __init__(self, nome, salario, cargo):\n",
    "        self.nome    = nome\n",
    "        self.salario = salario\n",
    "        self.cargo   = cargo\n",
    "    \n",
    "    def listFunc(self):\n",
    "        print(\"Funcionários \" + self.nome + \"tem salário de $R:\" + str(self.salario) + \" e cargo\" + self.cargo)"
   ]
  },
  {
   "cell_type": "code",
   "execution_count": 22,
   "id": "28121a8c",
   "metadata": {},
   "outputs": [],
   "source": [
    "# criando um objeto\n",
    "func1 = funcionario(\"Jazmin\", 5000, \"Ingenheira\")"
   ]
  },
  {
   "cell_type": "code",
   "execution_count": 23,
   "id": "0b2515be",
   "metadata": {},
   "outputs": [
    {
     "name": "stdout",
     "output_type": "stream",
     "text": [
      "Ingenheira\n",
      "Jazmin\n",
      "5000\n",
      "Funcionários Jazmintem salário de $R:5000 e cargoIngenheira\n",
      "None\n"
     ]
    }
   ],
   "source": [
    "# usando atributos e método da classe\n",
    "print(func1.cargo)\n",
    "print(func1.nome)\n",
    "print(func1.salario)\n",
    "print(func1.listFunc())"
   ]
  },
  {
   "cell_type": "code",
   "execution_count": 24,
   "id": "55425714",
   "metadata": {},
   "outputs": [
    {
     "name": "stdout",
     "output_type": "stream",
     "text": [
      "#------------- Usando atributos --------------#\n"
     ]
    }
   ],
   "source": [
    "print(\"#------------- Usando atributos --------------#\")"
   ]
  },
  {
   "cell_type": "code",
   "execution_count": 25,
   "id": "2dca7f02",
   "metadata": {},
   "outputs": [
    {
     "data": {
      "text/plain": [
       "True"
      ]
     },
     "execution_count": 25,
     "metadata": {},
     "output_type": "execute_result"
    }
   ],
   "source": [
    "hasattr(func1, \"nome\") # tem atriburo \"nome\" no objeto func1?"
   ]
  },
  {
   "cell_type": "code",
   "execution_count": 26,
   "id": "e48cf6c6",
   "metadata": {},
   "outputs": [
    {
     "data": {
      "text/plain": [
       "True"
      ]
     },
     "execution_count": 26,
     "metadata": {},
     "output_type": "execute_result"
    }
   ],
   "source": [
    "hasattr(func1, \"salario\")"
   ]
  },
  {
   "cell_type": "code",
   "execution_count": 27,
   "id": "67ae5be8",
   "metadata": {},
   "outputs": [],
   "source": [
    "setattr(func1, \"salario\", 4500)"
   ]
  },
  {
   "cell_type": "code",
   "execution_count": 28,
   "id": "a37f8fe9",
   "metadata": {},
   "outputs": [
    {
     "data": {
      "text/plain": [
       "True"
      ]
     },
     "execution_count": 28,
     "metadata": {},
     "output_type": "execute_result"
    }
   ],
   "source": [
    "hasattr(func1, \"salario\")"
   ]
  },
  {
   "cell_type": "code",
   "execution_count": 29,
   "id": "f1fac5f5",
   "metadata": {},
   "outputs": [
    {
     "data": {
      "text/plain": [
       "4500"
      ]
     },
     "execution_count": 29,
     "metadata": {},
     "output_type": "execute_result"
    }
   ],
   "source": [
    "getattr(func1, \"salario\")"
   ]
  },
  {
   "cell_type": "code",
   "execution_count": 30,
   "id": "ca90444c",
   "metadata": {},
   "outputs": [],
   "source": [
    "delattr(func1, \"salario\")"
   ]
  },
  {
   "cell_type": "code",
   "execution_count": 31,
   "id": "db1fc79f",
   "metadata": {},
   "outputs": [
    {
     "data": {
      "text/plain": [
       "False"
      ]
     },
     "execution_count": 31,
     "metadata": {},
     "output_type": "execute_result"
    }
   ],
   "source": [
    "hasattr(func1, \"salario\")"
   ]
  },
  {
   "cell_type": "markdown",
   "id": "57865c88",
   "metadata": {},
   "source": [
    "## Muito Obrigado\n",
    "\n",
    "## Oscar J. O. Ayala"
   ]
  }
 ],
 "metadata": {
  "kernelspec": {
   "display_name": "Python 3 (ipykernel)",
   "language": "python",
   "name": "python3"
  },
  "language_info": {
   "codemirror_mode": {
    "name": "ipython",
    "version": 3
   },
   "file_extension": ".py",
   "mimetype": "text/x-python",
   "name": "python",
   "nbconvert_exporter": "python",
   "pygments_lexer": "ipython3",
   "version": "3.9.13"
  }
 },
 "nbformat": 4,
 "nbformat_minor": 5
}
