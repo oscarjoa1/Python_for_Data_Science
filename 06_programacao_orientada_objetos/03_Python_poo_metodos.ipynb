{
 "cells": [
  {
   "cell_type": "markdown",
   "id": "13f264bf",
   "metadata": {},
   "source": [
    "# <font color = \"blue\"> Introdução à Programação Orientada a Objetos"
   ]
  },
  {
   "cell_type": "code",
   "execution_count": 1,
   "id": "09589dd6",
   "metadata": {},
   "outputs": [
    {
     "name": "stdout",
     "output_type": "stream",
     "text": [
      "versão da linguagem python 3.9.13\n"
     ]
    }
   ],
   "source": [
    "# versão da linguagem python\n",
    "from platform import python_version\n",
    "print(\"versão da linguagem python\", python_version())"
   ]
  },
  {
   "cell_type": "code",
   "execution_count": 21,
   "id": "c202597a",
   "metadata": {},
   "outputs": [],
   "source": [
    "# criando a classe circulo\n",
    "class Circulo():\n",
    "    \n",
    "    # valor constante \n",
    "    pi = 3.14\n",
    "    \n",
    "    # atributos com valor default raio igual a 5\n",
    "    def __init__(self, raio = 5):\n",
    "        self.raio = raio\n",
    "        \n",
    "    # metodo para obter a area\n",
    "    def area(self):\n",
    "        return (self.raio ** 2) * Circulo.pi\n",
    "    \n",
    "    # metodo para gerar um novo raio\n",
    "    def setRaio(self, novo_raio):\n",
    "        self.raio = novo_raio\n",
    "        \n",
    "    # metodo para obter o raio do circulo\n",
    "    def getRaio(self):\n",
    "        return self.raio\n",
    "    \n",
    "    \n",
    "    \n",
    "    \n",
    "    \n",
    "    "
   ]
  },
  {
   "cell_type": "code",
   "execution_count": 26,
   "id": "4c980acb",
   "metadata": {},
   "outputs": [],
   "source": [
    "circ = Circulo(7)\n"
   ]
  },
  {
   "cell_type": "code",
   "execution_count": 29,
   "id": "c41af3b3",
   "metadata": {},
   "outputs": [
    {
     "name": "stdout",
     "output_type": "stream",
     "text": [
      "5\n"
     ]
    }
   ],
   "source": [
    "circ.setRaio(5)\n",
    "print(circ.getRaio())"
   ]
  },
  {
   "cell_type": "code",
   "execution_count": 3,
   "id": "62e69171",
   "metadata": {},
   "outputs": [],
   "source": [
    "# criando objeto\n",
    "circ = Circulo()"
   ]
  },
  {
   "cell_type": "code",
   "execution_count": 4,
   "id": "a1213dfa",
   "metadata": {},
   "outputs": [
    {
     "data": {
      "text/plain": [
       "5"
      ]
     },
     "execution_count": 4,
     "metadata": {},
     "output_type": "execute_result"
    }
   ],
   "source": [
    "# executando um metodo de classe circulo\n",
    "circ.getRaio()"
   ]
  },
  {
   "cell_type": "code",
   "execution_count": 5,
   "id": "37c9dfc0",
   "metadata": {},
   "outputs": [],
   "source": [
    "# criando outro objeto\n",
    "circ1 = Circulo(7)"
   ]
  },
  {
   "cell_type": "code",
   "execution_count": 6,
   "id": "4775e1b7",
   "metadata": {},
   "outputs": [
    {
     "data": {
      "text/plain": [
       "7"
      ]
     },
     "execution_count": 6,
     "metadata": {},
     "output_type": "execute_result"
    }
   ],
   "source": [
    "# executando metodo da classe ciruclo\n",
    "circ1.getRaio()"
   ]
  },
  {
   "cell_type": "code",
   "execution_count": 7,
   "id": "7bc15ba6",
   "metadata": {},
   "outputs": [
    {
     "name": "stdout",
     "output_type": "stream",
     "text": [
      "O raio é de: 5\n"
     ]
    }
   ],
   "source": [
    "# imprimento o raio\n",
    "print(\"O raio é de:\", circ.getRaio())"
   ]
  },
  {
   "cell_type": "code",
   "execution_count": 8,
   "id": "f603cb0e",
   "metadata": {},
   "outputs": [
    {
     "name": "stdout",
     "output_type": "stream",
     "text": [
      "A area é de 78.5\n"
     ]
    }
   ],
   "source": [
    "# impriminto a area\n",
    "print(\"A area é de\", circ.area())"
   ]
  },
  {
   "cell_type": "code",
   "execution_count": 9,
   "id": "26fba35a",
   "metadata": {},
   "outputs": [],
   "source": [
    "# gerando um novo valor para o raio do círculo\n",
    "circ.setRaio(3)"
   ]
  },
  {
   "cell_type": "code",
   "execution_count": 10,
   "id": "ab4c5c45",
   "metadata": {},
   "outputs": [
    {
     "data": {
      "text/plain": [
       "3"
      ]
     },
     "execution_count": 10,
     "metadata": {},
     "output_type": "execute_result"
    }
   ],
   "source": [
    "# imprimento o novo raio\n",
    "circ.getRaio()"
   ]
  },
  {
   "cell_type": "code",
   "execution_count": 11,
   "id": "87e92a97",
   "metadata": {},
   "outputs": [
    {
     "data": {
      "text/plain": [
       "3"
      ]
     },
     "execution_count": 11,
     "metadata": {},
     "output_type": "execute_result"
    }
   ],
   "source": [
    "# imprimento raio\n",
    "circ.raio"
   ]
  },
  {
   "cell_type": "code",
   "execution_count": 12,
   "id": "ceb218dd",
   "metadata": {},
   "outputs": [
    {
     "name": "stdout",
     "output_type": "stream",
     "text": [
      "A area é de 28.26\n"
     ]
    }
   ],
   "source": [
    "# impriminto a area\n",
    "print(\"A area é de\", circ.area())"
   ]
  },
  {
   "cell_type": "markdown",
   "id": "a359ef49",
   "metadata": {},
   "source": [
    "## Muito Obrigado\n",
    "\n",
    "## Oscar J. O. Ayala"
   ]
  }
 ],
 "metadata": {
  "kernelspec": {
   "display_name": "Python 3 (ipykernel)",
   "language": "python",
   "name": "python3"
  },
  "language_info": {
   "codemirror_mode": {
    "name": "ipython",
    "version": 3
   },
   "file_extension": ".py",
   "mimetype": "text/x-python",
   "name": "python",
   "nbconvert_exporter": "python",
   "pygments_lexer": "ipython3",
   "version": "3.9.13"
  }
 },
 "nbformat": 4,
 "nbformat_minor": 5
}
