{
 "cells": [
  {
   "cell_type": "markdown",
   "id": "e802cf7b",
   "metadata": {},
   "source": [
    "# <font color = \"blue\"> Introdução à Programação Orientada a Objetos </font>"
   ]
  },
  {
   "cell_type": "code",
   "execution_count": 1,
   "id": "200e7fc9",
   "metadata": {},
   "outputs": [
    {
     "name": "stdout",
     "output_type": "stream",
     "text": [
      "Versão de Python 3.9.13\n"
     ]
    }
   ],
   "source": [
    "# Versão da linguagem Python\n",
    "from platform import python_version\n",
    "print(\"Versão de Python\", python_version())"
   ]
  },
  {
   "cell_type": "code",
   "execution_count": 2,
   "id": "d3e925d6",
   "metadata": {},
   "outputs": [],
   "source": [
    "# Super-classe\n",
    "class Veiculo:\n",
    "    def __init__(self, marca, modelo):\n",
    "        self.marca = marca\n",
    "        self.modelo = modelo\n",
    "        \n",
    "    def acelerar(self):\n",
    "        pass\n",
    "    \n",
    "    def frear(self):\n",
    "        pass\n",
    "    "
   ]
  },
  {
   "cell_type": "code",
   "execution_count": 3,
   "id": "da55d48f",
   "metadata": {},
   "outputs": [],
   "source": [
    "# Sub-classe\n",
    "class Carro(Veiculo):\n",
    "        \n",
    "    def acelerar(self):\n",
    "        print(\"A carro esta acelerando\")\n",
    "        \n",
    "    def frear(self):\n",
    "        print(\"A carro esta freando\")"
   ]
  },
  {
   "cell_type": "code",
   "execution_count": 4,
   "id": "ebd9d52b",
   "metadata": {},
   "outputs": [],
   "source": [
    "# Sub-classe\n",
    "class Moto(Veiculo):\n",
    "        \n",
    "    def acelerar(self):\n",
    "        print(\"A moto esta acelerando\")\n",
    "        \n",
    "    def frear(self):\n",
    "        print(\"A moto esta freando\")"
   ]
  },
  {
   "cell_type": "code",
   "execution_count": 5,
   "id": "85bbcc82",
   "metadata": {},
   "outputs": [],
   "source": [
    "# Sub-classe\n",
    "class Aviao(Veiculo):\n",
    "        \n",
    "    def decolar(self):\n",
    "        print(\"O aviao esta decolando\")\n",
    "        \n",
    "    def acelerar(self):\n",
    "        print(\"O aviao esta acelerando\")\n",
    "        \n",
    "    def frear(self):\n",
    "        print(\"O aviao esta freando\")"
   ]
  },
  {
   "cell_type": "code",
   "execution_count": 6,
   "id": "64d373f4",
   "metadata": {},
   "outputs": [],
   "source": [
    "# Criando lista\n",
    "lista_veiculo = [Carro(\"Parsche\", \"911 turbo\"), Moto(\"Honda\", \"CB 1000R Black Edition\"), Aviao(\"Boeing\", \"757\")]"
   ]
  },
  {
   "cell_type": "code",
   "execution_count": 7,
   "id": "2528eee6",
   "metadata": {},
   "outputs": [
    {
     "name": "stdout",
     "output_type": "stream",
     "text": [
      "Parsche\n",
      "911 turbo\n",
      "A carro esta acelerando\n",
      "A carro esta freando\n",
      "---------\n",
      "Honda\n",
      "CB 1000R Black Edition\n",
      "A moto esta acelerando\n",
      "A moto esta freando\n",
      "---------\n",
      "Boeing\n",
      "757\n",
      "O aviao esta acelerando\n",
      "O aviao esta freando\n",
      "O aviao esta decolando\n",
      "---------\n"
     ]
    }
   ],
   "source": [
    "# Loops\n",
    "\n",
    "for item in lista_veiculo:\n",
    "    print(item.marca)\n",
    "    print(item.modelo)\n",
    "    item.acelerar()\n",
    "    item.frear()\n",
    "    if isinstance(item, Aviao):\n",
    "        item.decolar()\n",
    "    print(\"---------\")"
   ]
  },
  {
   "cell_type": "markdown",
   "id": "b37de5c5",
   "metadata": {},
   "source": [
    "## Muito obrigado\n",
    "\n",
    "## Oscar J. O. Ayala"
   ]
  }
 ],
 "metadata": {
  "kernelspec": {
   "display_name": "Python 3 (ipykernel)",
   "language": "python",
   "name": "python3"
  },
  "language_info": {
   "codemirror_mode": {
    "name": "ipython",
    "version": 3
   },
   "file_extension": ".py",
   "mimetype": "text/x-python",
   "name": "python",
   "nbconvert_exporter": "python",
   "pygments_lexer": "ipython3",
   "version": "3.9.13"
  }
 },
 "nbformat": 4,
 "nbformat_minor": 5
}
