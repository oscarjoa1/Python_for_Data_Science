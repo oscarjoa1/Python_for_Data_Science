{
 "cells": [
  {
   "cell_type": "markdown",
   "id": "ac3b65cc",
   "metadata": {},
   "source": [
    "# <font color = \"blue\"> Introdução à Programação Orientada a Objetos </font>"
   ]
  },
  {
   "cell_type": "code",
   "execution_count": 1,
   "id": "4b073311",
   "metadata": {},
   "outputs": [
    {
     "name": "stdout",
     "output_type": "stream",
     "text": [
      "Versão da linguagem python 3.9.13\n"
     ]
    }
   ],
   "source": [
    "# versão da linguaguem Python\n",
    "from platform import python_version\n",
    "print(\"Versão da linguagem python\", python_version())"
   ]
  },
  {
   "cell_type": "code",
   "execution_count": 2,
   "id": "d2607933",
   "metadata": {},
   "outputs": [],
   "source": [
    "# Criando a classe animal: Super-classe\n",
    "\n",
    "class Animal:\n",
    "    def __init__(self):\n",
    "        print(\"Animal Criado\")\n",
    "        \n",
    "    def imprimir(self):\n",
    "        print(\"Este é um animal\")\n",
    "        \n",
    "    def comer(self):\n",
    "        print(\"Hora de comer\")\n",
    "        \n",
    "    def emitir_som(self):\n",
    "        pass\n",
    "\n"
   ]
  },
  {
   "cell_type": "code",
   "execution_count": 3,
   "id": "3811b0cd",
   "metadata": {},
   "outputs": [],
   "source": [
    "# Criando a classe Cachorro: sub-classe\n",
    "class Cachorro(Animal):\n",
    "    \n",
    "    def __init__(self):\n",
    "        Animal.__init__(self)\n",
    "        print(\"Objeto cachorro criado\")\n",
    "        \n",
    "    def emitir_som(self):\n",
    "        print(\"Au au!\")\n",
    "    "
   ]
  },
  {
   "cell_type": "code",
   "execution_count": 4,
   "id": "5742d3c7",
   "metadata": {},
   "outputs": [],
   "source": [
    "# Criando a classe Gato: sub-classe\n",
    "\n",
    "class Gato(Animal):\n",
    "    \n",
    "    def __init__(self):\n",
    "        Animal.__init__(self)\n",
    "        print(\"Objeto gato criado\")\n",
    "        \n",
    "    def emitir_som(self):\n",
    "        print(\"Miau miau!\")\n",
    "        "
   ]
  },
  {
   "cell_type": "code",
   "execution_count": 5,
   "id": "fad5571c",
   "metadata": {},
   "outputs": [
    {
     "name": "stdout",
     "output_type": "stream",
     "text": [
      "Animal Criado\n",
      "Objeto cachorro criado\n"
     ]
    }
   ],
   "source": [
    "# Criando objeto\n",
    "raiper = Cachorro()"
   ]
  },
  {
   "cell_type": "code",
   "execution_count": 6,
   "id": "1df2595b",
   "metadata": {},
   "outputs": [
    {
     "name": "stdout",
     "output_type": "stream",
     "text": [
      "Animal Criado\n",
      "Objeto gato criado\n"
     ]
    }
   ],
   "source": [
    "# Criando objeto \n",
    "slay = Gato()"
   ]
  },
  {
   "cell_type": "code",
   "execution_count": 7,
   "id": "d8781739",
   "metadata": {},
   "outputs": [
    {
     "name": "stdout",
     "output_type": "stream",
     "text": [
      "Au au!\n"
     ]
    }
   ],
   "source": [
    "# Chamando método\n",
    "raiper.emitir_som()"
   ]
  },
  {
   "cell_type": "code",
   "execution_count": 8,
   "id": "9f9f29fe",
   "metadata": {},
   "outputs": [
    {
     "name": "stdout",
     "output_type": "stream",
     "text": [
      "Miau miau!\n"
     ]
    }
   ],
   "source": [
    "# Chamando método\n",
    "slay.emitir_som()"
   ]
  },
  {
   "cell_type": "code",
   "execution_count": 9,
   "id": "92626ab5",
   "metadata": {},
   "outputs": [
    {
     "name": "stdout",
     "output_type": "stream",
     "text": [
      "Este é um animal\n",
      "Este é um animal\n"
     ]
    }
   ],
   "source": [
    "# Chamando método\n",
    "raiper.imprimir()\n",
    "slay.imprimir()"
   ]
  },
  {
   "cell_type": "code",
   "execution_count": 10,
   "id": "63dc3e52",
   "metadata": {},
   "outputs": [
    {
     "name": "stdout",
     "output_type": "stream",
     "text": [
      "Hora de comer\n",
      "Hora de comer\n"
     ]
    }
   ],
   "source": [
    "# Chamando método\n",
    "raiper.comer()\n",
    "slay.comer()"
   ]
  },
  {
   "cell_type": "markdown",
   "id": "581d5c42",
   "metadata": {},
   "source": [
    "## Muito Obrigado\n",
    "\n",
    "## Oscar J. O. Ayala"
   ]
  }
 ],
 "metadata": {
  "kernelspec": {
   "display_name": "Python 3 (ipykernel)",
   "language": "python",
   "name": "python3"
  },
  "language_info": {
   "codemirror_mode": {
    "name": "ipython",
    "version": 3
   },
   "file_extension": ".py",
   "mimetype": "text/x-python",
   "name": "python",
   "nbconvert_exporter": "python",
   "pygments_lexer": "ipython3",
   "version": "3.9.13"
  }
 },
 "nbformat": 4,
 "nbformat_minor": 5
}
